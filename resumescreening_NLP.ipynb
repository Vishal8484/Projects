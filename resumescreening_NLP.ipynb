{
 "cells": [
  {
   "cell_type": "code",
   "execution_count": 1,
   "metadata": {
    "id": "izWhGjhqu9ME"
   },
   "outputs": [],
   "source": [
    "import numpy as np\n",
    "import pandas as pd\n",
    "import matplotlib.pyplot as plt\n",
    "import seaborn as sns"
   ]
  },
  {
   "cell_type": "code",
   "execution_count": 3,
   "metadata": {
    "id": "vaethQtfvhm4"
   },
   "outputs": [],
   "source": [
    "raw_df = pd.read_csv(\"C:\\\\Users\\\\Suraj\\\\Downloads\\\\NLP\\\\resume_screening_NLP-main\\\\UpdatedResumeDataSet.csv\")"
   ]
  },
  {
   "cell_type": "code",
   "execution_count": 4,
   "metadata": {
    "colab": {
     "base_uri": "https://localhost:8080/"
    },
    "id": "DIbWHW2bvmYo",
    "outputId": "70639954-7a84-4bd7-d895-cafcc6b086fc"
   },
   "outputs": [
    {
     "data": {
      "text/plain": [
       "(962, 2)"
      ]
     },
     "execution_count": 4,
     "metadata": {},
     "output_type": "execute_result"
    }
   ],
   "source": [
    "raw_df.shape"
   ]
  },
  {
   "cell_type": "code",
   "execution_count": 5,
   "metadata": {
    "colab": {
     "base_uri": "https://localhost:8080/",
     "height": 206
    },
    "id": "u2fDC0hcvmVG",
    "outputId": "d200ce57-f255-4bf5-e942-dda99dc3d624"
   },
   "outputs": [
    {
     "data": {
      "text/html": [
       "<div>\n",
       "<style scoped>\n",
       "    .dataframe tbody tr th:only-of-type {\n",
       "        vertical-align: middle;\n",
       "    }\n",
       "\n",
       "    .dataframe tbody tr th {\n",
       "        vertical-align: top;\n",
       "    }\n",
       "\n",
       "    .dataframe thead th {\n",
       "        text-align: right;\n",
       "    }\n",
       "</style>\n",
       "<table border=\"1\" class=\"dataframe\">\n",
       "  <thead>\n",
       "    <tr style=\"text-align: right;\">\n",
       "      <th></th>\n",
       "      <th>Category</th>\n",
       "      <th>Resume</th>\n",
       "    </tr>\n",
       "  </thead>\n",
       "  <tbody>\n",
       "    <tr>\n",
       "      <th>0</th>\n",
       "      <td>Data Science</td>\n",
       "      <td>Skills * Programming Languages: Python (pandas...</td>\n",
       "    </tr>\n",
       "    <tr>\n",
       "      <th>1</th>\n",
       "      <td>Data Science</td>\n",
       "      <td>Education Details \\r\\nMay 2013 to May 2017 B.E...</td>\n",
       "    </tr>\n",
       "    <tr>\n",
       "      <th>2</th>\n",
       "      <td>Data Science</td>\n",
       "      <td>Areas of Interest Deep Learning, Control Syste...</td>\n",
       "    </tr>\n",
       "    <tr>\n",
       "      <th>3</th>\n",
       "      <td>Data Science</td>\n",
       "      <td>Skills â¢ R â¢ Python â¢ SAP HANA â¢ Table...</td>\n",
       "    </tr>\n",
       "    <tr>\n",
       "      <th>4</th>\n",
       "      <td>Data Science</td>\n",
       "      <td>Education Details \\r\\n MCA   YMCAUST,  Faridab...</td>\n",
       "    </tr>\n",
       "  </tbody>\n",
       "</table>\n",
       "</div>"
      ],
      "text/plain": [
       "       Category                                             Resume\n",
       "0  Data Science  Skills * Programming Languages: Python (pandas...\n",
       "1  Data Science  Education Details \\r\\nMay 2013 to May 2017 B.E...\n",
       "2  Data Science  Areas of Interest Deep Learning, Control Syste...\n",
       "3  Data Science  Skills â¢ R â¢ Python â¢ SAP HANA â¢ Table...\n",
       "4  Data Science  Education Details \\r\\n MCA   YMCAUST,  Faridab..."
      ]
     },
     "execution_count": 5,
     "metadata": {},
     "output_type": "execute_result"
    }
   ],
   "source": [
    "raw_df.head()"
   ]
  },
  {
   "cell_type": "code",
   "execution_count": 6,
   "metadata": {
    "colab": {
     "base_uri": "https://localhost:8080/"
    },
    "id": "9oKxLyzdvmSy",
    "outputId": "16e81740-0b60-41dc-ba98-27418ca05704"
   },
   "outputs": [
    {
     "data": {
      "text/plain": [
       "Java Developer               84\n",
       "Testing                      70\n",
       "DevOps Engineer              55\n",
       "Python Developer             48\n",
       "Web Designing                45\n",
       "HR                           44\n",
       "Hadoop                       42\n",
       "Blockchain                   40\n",
       "ETL Developer                40\n",
       "Operations Manager           40\n",
       "Data Science                 40\n",
       "Sales                        40\n",
       "Mechanical Engineer          40\n",
       "Arts                         36\n",
       "Database                     33\n",
       "Electrical Engineering       30\n",
       "Health and fitness           30\n",
       "PMO                          30\n",
       "Business Analyst             28\n",
       "DotNet Developer             28\n",
       "Automation Testing           26\n",
       "Network Security Engineer    25\n",
       "SAP Developer                24\n",
       "Civil Engineer               24\n",
       "Advocate                     20\n",
       "Name: Category, dtype: int64"
      ]
     },
     "execution_count": 6,
     "metadata": {},
     "output_type": "execute_result"
    }
   ],
   "source": [
    "raw_df['Category'].value_counts()"
   ]
  },
  {
   "cell_type": "code",
   "execution_count": 7,
   "metadata": {
    "colab": {
     "base_uri": "https://localhost:8080/",
     "height": 542
    },
    "id": "_BMnwGmJvmPH",
    "outputId": "ae857e49-ec8d-42c1-b8b1-012bc98ff1c0"
   },
   "outputs": [
    {
     "data": {
      "image/png": "[encoded data removed]",
      "text/plain": [
       "<Figure size 1000x600 with 1 Axes>"
      ]
     },
     "metadata": {},
     "output_type": "display_data"
    }
   ],
   "source": [
    "plt.figure(figsize=(10,6))\n",
    "sns.countplot(y ='Category', data = raw_df)\n",
    "plt.show()"
   ]
  },
  {
   "cell_type": "code",
   "execution_count": 8,
   "metadata": {
    "colab": {
     "base_uri": "https://localhost:8080/"
    },
    "id": "3B33RE-mvmNC",
    "outputId": "017be09f-f7c1-477d-cec3-094a6ab19ad5"
   },
   "outputs": [
    {
     "data": {
      "text/plain": [
       "array(['Data Science', 'HR', 'Advocate', 'Arts', 'Web Designing',\n",
       "       'Mechanical Engineer', 'Sales', 'Health and fitness',\n",
       "       'Civil Engineer', 'Java Developer', 'Business Analyst',\n",
       "       'SAP Developer', 'Automation Testing', 'Electrical Engineering',\n",
       "       'Operations Manager', 'Python Developer', 'DevOps Engineer',\n",
       "       'Network Security Engineer', 'PMO', 'Database', 'Hadoop',\n",
       "       'ETL Developer', 'DotNet Developer', 'Blockchain', 'Testing'],\n",
       "      dtype=object)"
      ]
     },
     "execution_count": 8,
     "metadata": {},
     "output_type": "execute_result"
    }
   ],
   "source": [
    "raw_df['Category'].unique()"
   ]
  },
  {
   "cell_type": "code",
   "execution_count": 9,
   "metadata": {
    "colab": {
     "base_uri": "https://localhost:8080/",
     "height": 140
    },
    "id": "58zc-OIVvmJk",
    "outputId": "cab9cdc5-b6cf-492d-ac9c-af90f4bebe70"
   },
   "outputs": [
    {
     "data": {
      "text/plain": [
       "'Skills * Programming Languages: Python (pandas, numpy, scipy, scikit-learn, matplotlib), Sql, Java, JavaScript/JQuery. * Machine learning: Regression, SVM, NaÃ¯ve Bayes, KNN, Random Forest, Decision Trees, Boosting techniques, Cluster Analysis, Word Embedding, Sentiment Analysis, Natural Language processing, Dimensionality reduction, Topic Modelling (LDA, NMF), PCA & Neural Nets. * Database Visualizations: Mysql, SqlServer, Cassandra, Hbase, ElasticSearch D3.js, DC.js, Plotly, kibana, matplotlib, ggplot, Tableau. * Others: Regular Expression, HTML, CSS, Angular 6, Logstash, Kafka, Python Flask, Git, Docker, computer vision - Open CV and understanding of Deep learning.Education Details \\r\\n\\r\\nData Science Assurance Associate \\r\\n\\r\\nData Science Assurance Associate - Ernst & Young LLP\\r\\nSkill Details \\r\\nJAVASCRIPT- Exprience - 24 months\\r\\njQuery- Exprience - 24 months\\r\\nPython- Exprience - 24 monthsCompany Details \\r\\ncompany - Ernst & Young LLP\\r\\ndescription - Fraud Investigations and Dispute Services   Assurance\\r\\nTECHNOLOGY ASSISTED REVIEW\\r\\nTAR (Technology Assisted Review) assists in accelerating the review process and run analytics and generate reports.\\r\\n* Core member of a team helped in developing automated review platform tool from scratch for assisting E discovery domain, this tool implements predictive coding and topic modelling by automating reviews, resulting in reduced labor costs and time spent during the lawyers review.\\r\\n* Understand the end to end flow of the solution, doing research and development for classification models, predictive analysis and mining of the information present in text data. Worked on analyzing the outputs and precision monitoring for the entire tool.\\r\\n* TAR assists in predictive coding, topic modelling from the evidence by following EY standards. Developed the classifier models in order to identify \"red flags\" and fraud-related issues.\\r\\n\\r\\nTools & Technologies: Python, scikit-learn, tfidf, word2vec, doc2vec, cosine similarity, NaÃ¯ve Bayes, LDA, NMF for topic modelling, Vader and text blob for sentiment analysis. Matplot lib, Tableau dashboard for reporting.\\r\\n\\r\\nMULTIPLE DATA SCIENCE AND ANALYTIC PROJECTS (USA CLIENTS)\\r\\nTEXT ANALYTICS - MOTOR VEHICLE CUSTOMER REVIEW DATA * Received customer feedback survey data for past one year. Performed sentiment (Positive, Negative & Neutral) and time series analysis on customer comments across all 4 categories.\\r\\n* Created heat map of terms by survey category based on frequency of words * Extracted Positive and Negative words across all the Survey categories and plotted Word cloud.\\r\\n* Created customized tableau dashboards for effective reporting and visualizations.\\r\\nCHATBOT * Developed a user friendly chatbot for one of our Products which handle simple questions about hours of operation, reservation options and so on.\\r\\n* This chat bot serves entire product related questions. Giving overview of tool via QA platform and also give recommendation responses so that user question to build chain of relevant answer.\\r\\n* This too has intelligence to build the pipeline of questions as per user requirement and asks the relevant /recommended questions.\\r\\n\\r\\nTools & Technologies: Python, Natural language processing, NLTK, spacy, topic modelling, Sentiment analysis, Word Embedding, scikit-learn, JavaScript/JQuery, SqlServer\\r\\n\\r\\nINFORMATION GOVERNANCE\\r\\nOrganizations to make informed decisions about all of the information they store. The integrated Information Governance portfolio synthesizes intelligence across unstructured data sources and facilitates action to ensure organizations are best positioned to counter information risk.\\r\\n* Scan data from multiple sources of formats and parse different file formats, extract Meta data information, push results for indexing elastic search and created customized, interactive dashboards using kibana.\\r\\n* Preforming ROT Analysis on the data which give information of data which helps identify content that is either Redundant, Outdated, or Trivial.\\r\\n* Preforming full-text search analysis on elastic search with predefined methods which can tag as (PII) personally identifiable information (social security numbers, addresses, names, etc.) which frequently targeted during cyber-attacks.\\r\\nTools & Technologies: Python, Flask, Elastic Search, Kibana\\r\\n\\r\\nFRAUD ANALYTIC PLATFORM\\r\\nFraud Analytics and investigative platform to review all red flag cases.\\r\\nâ\\x80¢ FAP is a Fraud Analytics and investigative platform with inbuilt case manager and suite of Analytics for various ERP systems.\\r\\n* It can be used by clients to interrogate their Accounting systems for identifying the anomalies which can be indicators of fraud by running advanced analytics\\r\\nTools & Technologies: HTML, JavaScript, SqlServer, JQuery, CSS, Bootstrap, Node.js, D3.js, DC.js'"
      ]
     },
     "execution_count": 9,
     "metadata": {},
     "output_type": "execute_result"
    }
   ],
   "source": [
    "raw_df['Resume'][0]"
   ]
  },
  {
   "cell_type": "code",
   "execution_count": 10,
   "metadata": {
    "id": "TCw_NIZdvmF8"
   },
   "outputs": [],
   "source": [
    "df = raw_df.copy()"
   ]
  },
  {
   "cell_type": "code",
   "execution_count": 11,
   "metadata": {
    "id": "hwvAO88KvmDm"
   },
   "outputs": [],
   "source": [
    "import re\n",
    "\n",
    "def cleanResume(text):\n",
    "    pattern = r'[^a-zA-Z0-9\\s]'\n",
    "    cleantext = re.sub(pattern, '', text)\n",
    "    cleantext = re.sub(r'\\n|\\r', '', cleantext)\n",
    "\n",
    "    return cleantext\n"
   ]
  },
  {
   "cell_type": "code",
   "execution_count": 12,
   "metadata": {
    "id": "SIRVtdbpvmAv"
   },
   "outputs": [],
   "source": [
    "df['Resume'] = df['Resume'].apply(cleanResume)"
   ]
  },
  {
   "cell_type": "code",
   "execution_count": 13,
   "metadata": {
    "colab": {
     "base_uri": "https://localhost:8080/"
    },
    "id": "ahYR7p0kvl9U",
    "outputId": "e0136939-e95c-4f7d-aef6-ed87e7a8e6f2"
   },
   "outputs": [
    {
     "data": {
      "text/plain": [
       "0      Skills  Programming Languages Python pandas nu...\n",
       "1      Education Details May 2013 to May 2017 BE   UI...\n",
       "2      Areas of Interest Deep Learning Control System...\n",
       "3      Skills  R  Python  SAP HANA  Tableau  SAP HANA...\n",
       "4      Education Details  MCA   YMCAUST  Faridabad  H...\n",
       "                             ...                        \n",
       "957    Computer Skills  Proficient in MS office Word ...\n",
       "958     Willingness to accept the challenges  Positiv...\n",
       "959    PERSONAL SKILLS  Quick learner  Eagerness to l...\n",
       "960    COMPUTER SKILLS  SOFTWARE KNOWLEDGE MSPower Po...\n",
       "961    Skill Set OS Windows XP788110 Database MYSQL s...\n",
       "Name: Resume, Length: 962, dtype: object"
      ]
     },
     "execution_count": 13,
     "metadata": {},
     "output_type": "execute_result"
    }
   ],
   "source": [
    "df['Resume']"
   ]
  },
  {
   "cell_type": "code",
   "execution_count": 14,
   "metadata": {
    "colab": {
     "base_uri": "https://localhost:8080/",
     "height": 140
    },
    "id": "WzE-x2-F2o9O",
    "outputId": "ca70534c-7a49-478c-e3a3-63f0a7713cab"
   },
   "outputs": [
    {
     "data": {
      "text/plain": [
       "'Skills  Programming Languages Python pandas numpy scipy scikitlearn matplotlib Sql Java JavaScriptJQuery  Machine learning Regression SVM Nave Bayes KNN Random Forest Decision Trees Boosting techniques Cluster Analysis Word Embedding Sentiment Analysis Natural Language processing Dimensionality reduction Topic Modelling LDA NMF PCA  Neural Nets  Database Visualizations Mysql SqlServer Cassandra Hbase ElasticSearch D3js DCjs Plotly kibana matplotlib ggplot Tableau  Others Regular Expression HTML CSS Angular 6 Logstash Kafka Python Flask Git Docker computer vision  Open CV and understanding of Deep learningEducation Details Data Science Assurance Associate Data Science Assurance Associate  Ernst  Young LLPSkill Details JAVASCRIPT Exprience  24 monthsjQuery Exprience  24 monthsPython Exprience  24 monthsCompany Details company  Ernst  Young LLPdescription  Fraud Investigations and Dispute Services   AssuranceTECHNOLOGY ASSISTED REVIEWTAR Technology Assisted Review assists in accelerating the review process and run analytics and generate reports Core member of a team helped in developing automated review platform tool from scratch for assisting E discovery domain this tool implements predictive coding and topic modelling by automating reviews resulting in reduced labor costs and time spent during the lawyers review Understand the end to end flow of the solution doing research and development for classification models predictive analysis and mining of the information present in text data Worked on analyzing the outputs and precision monitoring for the entire tool TAR assists in predictive coding topic modelling from the evidence by following EY standards Developed the classifier models in order to identify red flags and fraudrelated issuesTools  Technologies Python scikitlearn tfidf word2vec doc2vec cosine similarity Nave Bayes LDA NMF for topic modelling Vader and text blob for sentiment analysis Matplot lib Tableau dashboard for reportingMULTIPLE DATA SCIENCE AND ANALYTIC PROJECTS USA CLIENTSTEXT ANALYTICS  MOTOR VEHICLE CUSTOMER REVIEW DATA  Received customer feedback survey data for past one year Performed sentiment Positive Negative  Neutral and time series analysis on customer comments across all 4 categories Created heat map of terms by survey category based on frequency of words  Extracted Positive and Negative words across all the Survey categories and plotted Word cloud Created customized tableau dashboards for effective reporting and visualizationsCHATBOT  Developed a user friendly chatbot for one of our Products which handle simple questions about hours of operation reservation options and so on This chat bot serves entire product related questions Giving overview of tool via QA platform and also give recommendation responses so that user question to build chain of relevant answer This too has intelligence to build the pipeline of questions as per user requirement and asks the relevant recommended questionsTools  Technologies Python Natural language processing NLTK spacy topic modelling Sentiment analysis Word Embedding scikitlearn JavaScriptJQuery SqlServerINFORMATION GOVERNANCEOrganizations to make informed decisions about all of the information they store The integrated Information Governance portfolio synthesizes intelligence across unstructured data sources and facilitates action to ensure organizations are best positioned to counter information risk Scan data from multiple sources of formats and parse different file formats extract Meta data information push results for indexing elastic search and created customized interactive dashboards using kibana Preforming ROT Analysis on the data which give information of data which helps identify content that is either Redundant Outdated or Trivial Preforming fulltext search analysis on elastic search with predefined methods which can tag as PII personally identifiable information social security numbers addresses names etc which frequently targeted during cyberattacksTools  Technologies Python Flask Elastic Search KibanaFRAUD ANALYTIC PLATFORMFraud Analytics and investigative platform to review all red flag cases FAP is a Fraud Analytics and investigative platform with inbuilt case manager and suite of Analytics for various ERP systems It can be used by clients to interrogate their Accounting systems for identifying the anomalies which can be indicators of fraud by running advanced analyticsTools  Technologies HTML JavaScript SqlServer JQuery CSS Bootstrap Nodejs D3js DCjs'"
      ]
     },
     "execution_count": 14,
     "metadata": {},
     "output_type": "execute_result"
    }
   ],
   "source": [
    "df['Resume'][0]"
   ]
  },
  {
   "cell_type": "code",
   "execution_count": 15,
   "metadata": {
    "id": "gFDsWRUAvl7Z"
   },
   "outputs": [],
   "source": [
    "from sklearn.preprocessing import LabelEncoder\n",
    "le = LabelEncoder()"
   ]
  },
  {
   "cell_type": "code",
   "execution_count": 16,
   "metadata": {
    "id": "Kh8C_l7svl4N"
   },
   "outputs": [],
   "source": [
    "le.fit(df['Category'])\n",
    "df['Category'] = le.transform(df['Category'])"
   ]
  },
  {
   "cell_type": "code",
   "execution_count": 17,
   "metadata": {
    "colab": {
     "base_uri": "https://localhost:8080/",
     "height": 206
    },
    "id": "9xcz20ORvl1S",
    "outputId": "985081ca-f67d-4e68-c73c-8b582c5d6740"
   },
   "outputs": [
    {
     "data": {
      "text/html": [
       "<div>\n",
       "<style scoped>\n",
       "    .dataframe tbody tr th:only-of-type {\n",
       "        vertical-align: middle;\n",
       "    }\n",
       "\n",
       "    .dataframe tbody tr th {\n",
       "        vertical-align: top;\n",
       "    }\n",
       "\n",
       "    .dataframe thead th {\n",
       "        text-align: right;\n",
       "    }\n",
       "</style>\n",
       "<table border=\"1\" class=\"dataframe\">\n",
       "  <thead>\n",
       "    <tr style=\"text-align: right;\">\n",
       "      <th></th>\n",
       "      <th>Category</th>\n",
       "      <th>Resume</th>\n",
       "    </tr>\n",
       "  </thead>\n",
       "  <tbody>\n",
       "    <tr>\n",
       "      <th>0</th>\n",
       "      <td>6</td>\n",
       "      <td>Skills  Programming Languages Python pandas nu...</td>\n",
       "    </tr>\n",
       "    <tr>\n",
       "      <th>1</th>\n",
       "      <td>6</td>\n",
       "      <td>Education Details May 2013 to May 2017 BE   UI...</td>\n",
       "    </tr>\n",
       "    <tr>\n",
       "      <th>2</th>\n",
       "      <td>6</td>\n",
       "      <td>Areas of Interest Deep Learning Control System...</td>\n",
       "    </tr>\n",
       "    <tr>\n",
       "      <th>3</th>\n",
       "      <td>6</td>\n",
       "      <td>Skills  R  Python  SAP HANA  Tableau  SAP HANA...</td>\n",
       "    </tr>\n",
       "    <tr>\n",
       "      <th>4</th>\n",
       "      <td>6</td>\n",
       "      <td>Education Details  MCA   YMCAUST  Faridabad  H...</td>\n",
       "    </tr>\n",
       "  </tbody>\n",
       "</table>\n",
       "</div>"
      ],
      "text/plain": [
       "   Category                                             Resume\n",
       "0         6  Skills  Programming Languages Python pandas nu...\n",
       "1         6  Education Details May 2013 to May 2017 BE   UI...\n",
       "2         6  Areas of Interest Deep Learning Control System...\n",
       "3         6  Skills  R  Python  SAP HANA  Tableau  SAP HANA...\n",
       "4         6  Education Details  MCA   YMCAUST  Faridabad  H..."
      ]
     },
     "execution_count": 17,
     "metadata": {},
     "output_type": "execute_result"
    }
   ],
   "source": [
    "df.head()"
   ]
  },
  {
   "cell_type": "code",
   "execution_count": 18,
   "metadata": {
    "colab": {
     "base_uri": "https://localhost:8080/"
    },
    "id": "57e54lyqvlzt",
    "outputId": "7b20c96f-4651-4d1d-b53d-349cf3f190dd"
   },
   "outputs": [
    {
     "name": "stdout",
     "output_type": "stream",
     "text": [
      "Label 0 corresponds to Category 'Advocate'\n",
      "Label 1 corresponds to Category 'Arts'\n",
      "Label 2 corresponds to Category 'Automation Testing'\n",
      "Label 3 corresponds to Category 'Blockchain'\n",
      "Label 4 corresponds to Category 'Business Analyst'\n",
      "Label 5 corresponds to Category 'Civil Engineer'\n",
      "Label 6 corresponds to Category 'Data Science'\n",
      "Label 7 corresponds to Category 'Database'\n",
      "Label 8 corresponds to Category 'DevOps Engineer'\n",
      "Label 9 corresponds to Category 'DotNet Developer'\n",
      "Label 10 corresponds to Category 'ETL Developer'\n",
      "Label 11 corresponds to Category 'Electrical Engineering'\n",
      "Label 12 corresponds to Category 'HR'\n",
      "Label 13 corresponds to Category 'Hadoop'\n",
      "Label 14 corresponds to Category 'Health and fitness'\n",
      "Label 15 corresponds to Category 'Java Developer'\n",
      "Label 16 corresponds to Category 'Mechanical Engineer'\n",
      "Label 17 corresponds to Category 'Network Security Engineer'\n",
      "Label 18 corresponds to Category 'Operations Manager'\n",
      "Label 19 corresponds to Category 'PMO'\n",
      "Label 20 corresponds to Category 'Python Developer'\n",
      "Label 21 corresponds to Category 'SAP Developer'\n",
      "Label 22 corresponds to Category 'Sales'\n",
      "Label 23 corresponds to Category 'Testing'\n",
      "Label 24 corresponds to Category 'Web Designing'\n"
     ]
    }
   ],
   "source": [
    "# Access the mapping of labels to categories\n",
    "label_to_category = dict(zip(le.transform(le.classes_), le.classes_))\n",
    "\n",
    "# Print the mapping\n",
    "for label, category in label_to_category.items():\n",
    "    print(f\"Label {label} corresponds to Category '{category}'\")"
   ]
  },
  {
   "cell_type": "code",
   "execution_count": 19,
   "metadata": {
    "colab": {
     "base_uri": "https://localhost:8080/"
    },
    "id": "xvHhMd5LvlvX",
    "outputId": "eb870138-48d4-4156-cf1a-155218e924fe"
   },
   "outputs": [
    {
     "name": "stderr",
     "output_type": "stream",
     "text": [
      "[nltk_data] Downloading package stopwords to\n",
      "[nltk_data]     C:\\Users\\Suraj\\AppData\\Roaming\\nltk_data...\n",
      "[nltk_data]   Package stopwords is already up-to-date!\n"
     ]
    },
    {
     "data": {
      "text/plain": [
       "True"
      ]
     },
     "execution_count": 19,
     "metadata": {},
     "output_type": "execute_result"
    }
   ],
   "source": [
    "import nltk\n",
    "from nltk.corpus import stopwords\n",
    "nltk.download('stopwords')"
   ]
  },
  {
   "cell_type": "code",
   "execution_count": 20,
   "metadata": {
    "id": "HDvjLp1vvlsv"
   },
   "outputs": [],
   "source": [
    "def remove_stopwords(text):\n",
    "    stop_words = set(stopwords.words('english'))\n",
    "    words = text.split()\n",
    "    filtered_words = [word for word in words if word.lower() not in stop_words]\n",
    "    return ' '.join(filtered_words)\n",
    "\n",
    "df['Resume'] = df['Resume'].apply(remove_stopwords)"
   ]
  },
  {
   "cell_type": "code",
   "execution_count": 21,
   "metadata": {
    "colab": {
     "base_uri": "https://localhost:8080/"
    },
    "id": "DmJarB8Ivlon",
    "outputId": "d72effc4-730f-49f1-97fa-ac4137f4a1f2"
   },
   "outputs": [
    {
     "data": {
      "text/plain": [
       "0      Skills Programming Languages Python pandas num...\n",
       "1      Education Details May 2013 May 2017 UITRGPVDat...\n",
       "2      Areas Interest Deep Learning Control System De...\n",
       "3      Skills R Python SAP HANA Tableau SAP HANA SQL ...\n",
       "4      Education Details MCA YMCAUST Faridabad Haryan...\n",
       "                             ...                        \n",
       "957    Computer Skills Proficient MS office Word Basi...\n",
       "958    Willingness accept challenges Positive thinkin...\n",
       "959    PERSONAL SKILLS Quick learner Eagerness learn ...\n",
       "960    COMPUTER SKILLS SOFTWARE KNOWLEDGE MSPower Poi...\n",
       "961    Skill Set OS Windows XP788110 Database MYSQL s...\n",
       "Name: Resume, Length: 962, dtype: object"
      ]
     },
     "execution_count": 21,
     "metadata": {},
     "output_type": "execute_result"
    }
   ],
   "source": [
    "df['Resume']"
   ]
  },
  {
   "cell_type": "code",
   "execution_count": 22,
   "metadata": {
    "colab": {
     "base_uri": "https://localhost:8080/",
     "height": 140
    },
    "id": "GAdNZWkm2zjn",
    "outputId": "04892258-d17b-47cb-f529-b58a697d910b"
   },
   "outputs": [
    {
     "data": {
      "text/plain": [
       "'Skills Programming Languages Python pandas numpy scipy scikitlearn matplotlib Sql Java JavaScriptJQuery Machine learning Regression SVM Nave Bayes KNN Random Forest Decision Trees Boosting techniques Cluster Analysis Word Embedding Sentiment Analysis Natural Language processing Dimensionality reduction Topic Modelling LDA NMF PCA Neural Nets Database Visualizations Mysql SqlServer Cassandra Hbase ElasticSearch D3js DCjs Plotly kibana matplotlib ggplot Tableau Others Regular Expression HTML CSS Angular 6 Logstash Kafka Python Flask Git Docker computer vision Open CV understanding Deep learningEducation Details Data Science Assurance Associate Data Science Assurance Associate Ernst Young LLPSkill Details JAVASCRIPT Exprience 24 monthsjQuery Exprience 24 monthsPython Exprience 24 monthsCompany Details company Ernst Young LLPdescription Fraud Investigations Dispute Services AssuranceTECHNOLOGY ASSISTED REVIEWTAR Technology Assisted Review assists accelerating review process run analytics generate reports Core member team helped developing automated review platform tool scratch assisting E discovery domain tool implements predictive coding topic modelling automating reviews resulting reduced labor costs time spent lawyers review Understand end end flow solution research development classification models predictive analysis mining information present text data Worked analyzing outputs precision monitoring entire tool TAR assists predictive coding topic modelling evidence following EY standards Developed classifier models order identify red flags fraudrelated issuesTools Technologies Python scikitlearn tfidf word2vec doc2vec cosine similarity Nave Bayes LDA NMF topic modelling Vader text blob sentiment analysis Matplot lib Tableau dashboard reportingMULTIPLE DATA SCIENCE ANALYTIC PROJECTS USA CLIENTSTEXT ANALYTICS MOTOR VEHICLE CUSTOMER REVIEW DATA Received customer feedback survey data past one year Performed sentiment Positive Negative Neutral time series analysis customer comments across 4 categories Created heat map terms survey category based frequency words Extracted Positive Negative words across Survey categories plotted Word cloud Created customized tableau dashboards effective reporting visualizationsCHATBOT Developed user friendly chatbot one Products handle simple questions hours operation reservation options chat bot serves entire product related questions Giving overview tool via QA platform also give recommendation responses user question build chain relevant answer intelligence build pipeline questions per user requirement asks relevant recommended questionsTools Technologies Python Natural language processing NLTK spacy topic modelling Sentiment analysis Word Embedding scikitlearn JavaScriptJQuery SqlServerINFORMATION GOVERNANCEOrganizations make informed decisions information store integrated Information Governance portfolio synthesizes intelligence across unstructured data sources facilitates action ensure organizations best positioned counter information risk Scan data multiple sources formats parse different file formats extract Meta data information push results indexing elastic search created customized interactive dashboards using kibana Preforming ROT Analysis data give information data helps identify content either Redundant Outdated Trivial Preforming fulltext search analysis elastic search predefined methods tag PII personally identifiable information social security numbers addresses names etc frequently targeted cyberattacksTools Technologies Python Flask Elastic Search KibanaFRAUD ANALYTIC PLATFORMFraud Analytics investigative platform review red flag cases FAP Fraud Analytics investigative platform inbuilt case manager suite Analytics various ERP systems used clients interrogate Accounting systems identifying anomalies indicators fraud running advanced analyticsTools Technologies HTML JavaScript SqlServer JQuery CSS Bootstrap Nodejs D3js DCjs'"
      ]
     },
     "execution_count": 22,
     "metadata": {},
     "output_type": "execute_result"
    }
   ],
   "source": [
    "df['Resume'][0]"
   ]
  },
  {
   "cell_type": "code",
   "execution_count": 23,
   "metadata": {
    "colab": {
     "base_uri": "https://localhost:8080/"
    },
    "id": "f0bQSzy72tM3",
    "outputId": "050b455b-70cb-407d-ff56-d4cb67886ffb"
   },
   "outputs": [
    {
     "name": "stderr",
     "output_type": "stream",
     "text": [
      "[nltk_data] Downloading package punkt to\n",
      "[nltk_data]     C:\\Users\\Suraj\\AppData\\Roaming\\nltk_data...\n",
      "[nltk_data]   Package punkt is already up-to-date!\n",
      "[nltk_data] Downloading package wordnet to\n",
      "[nltk_data]     C:\\Users\\Suraj\\AppData\\Roaming\\nltk_data...\n"
     ]
    }
   ],
   "source": [
    "from nltk.stem import WordNetLemmatizer\n",
    "nltk.download('punkt')\n",
    "nltk.download('wordnet')\n",
    "\n",
    "lemmatizer = WordNetLemmatizer()"
   ]
  },
  {
   "cell_type": "code",
   "execution_count": 24,
   "metadata": {
    "id": "c1ILMolnvlgS"
   },
   "outputs": [],
   "source": [
    "def lemmatize(text):\n",
    "  words = nltk.word_tokenize(text)\n",
    "  lemmatized_words = [lemmatizer.lemmatize(word) for word in words]\n",
    "  lemmatized_text = ' '.join(lemmatized_words)\n",
    "\n",
    "  return lemmatized_text"
   ]
  },
  {
   "cell_type": "code",
   "execution_count": 25,
   "metadata": {
    "id": "4wmB4VNBvleW"
   },
   "outputs": [],
   "source": [
    "df['Resume'] = df['Resume'].apply(lemmatize)"
   ]
  },
  {
   "cell_type": "code",
   "execution_count": 26,
   "metadata": {
    "colab": {
     "base_uri": "https://localhost:8080/",
     "height": 140
    },
    "id": "07UP5EAHvlas",
    "outputId": "c8a353af-b88c-4dda-ca9c-d0b717ecc432"
   },
   "outputs": [
    {
     "data": {
      "text/plain": [
       "'Skills Programming Languages Python panda numpy scipy scikitlearn matplotlib Sql Java JavaScriptJQuery Machine learning Regression SVM Nave Bayes KNN Random Forest Decision Trees Boosting technique Cluster Analysis Word Embedding Sentiment Analysis Natural Language processing Dimensionality reduction Topic Modelling LDA NMF PCA Neural Nets Database Visualizations Mysql SqlServer Cassandra Hbase ElasticSearch D3js DCjs Plotly kibana matplotlib ggplot Tableau Others Regular Expression HTML CSS Angular 6 Logstash Kafka Python Flask Git Docker computer vision Open CV understanding Deep learningEducation Details Data Science Assurance Associate Data Science Assurance Associate Ernst Young LLPSkill Details JAVASCRIPT Exprience 24 monthsjQuery Exprience 24 monthsPython Exprience 24 monthsCompany Details company Ernst Young LLPdescription Fraud Investigations Dispute Services AssuranceTECHNOLOGY ASSISTED REVIEWTAR Technology Assisted Review assist accelerating review process run analytics generate report Core member team helped developing automated review platform tool scratch assisting E discovery domain tool implement predictive coding topic modelling automating review resulting reduced labor cost time spent lawyer review Understand end end flow solution research development classification model predictive analysis mining information present text data Worked analyzing output precision monitoring entire tool TAR assist predictive coding topic modelling evidence following EY standard Developed classifier model order identify red flag fraudrelated issuesTools Technologies Python scikitlearn tfidf word2vec doc2vec cosine similarity Nave Bayes LDA NMF topic modelling Vader text blob sentiment analysis Matplot lib Tableau dashboard reportingMULTIPLE DATA SCIENCE ANALYTIC PROJECTS USA CLIENTSTEXT ANALYTICS MOTOR VEHICLE CUSTOMER REVIEW DATA Received customer feedback survey data past one year Performed sentiment Positive Negative Neutral time series analysis customer comment across 4 category Created heat map term survey category based frequency word Extracted Positive Negative word across Survey category plotted Word cloud Created customized tableau dashboard effective reporting visualizationsCHATBOT Developed user friendly chatbot one Products handle simple question hour operation reservation option chat bot serf entire product related question Giving overview tool via QA platform also give recommendation response user question build chain relevant answer intelligence build pipeline question per user requirement asks relevant recommended questionsTools Technologies Python Natural language processing NLTK spacy topic modelling Sentiment analysis Word Embedding scikitlearn JavaScriptJQuery SqlServerINFORMATION GOVERNANCEOrganizations make informed decision information store integrated Information Governance portfolio synthesizes intelligence across unstructured data source facilitates action ensure organization best positioned counter information risk Scan data multiple source format parse different file format extract Meta data information push result indexing elastic search created customized interactive dashboard using kibana Preforming ROT Analysis data give information data help identify content either Redundant Outdated Trivial Preforming fulltext search analysis elastic search predefined method tag PII personally identifiable information social security number address name etc frequently targeted cyberattacksTools Technologies Python Flask Elastic Search KibanaFRAUD ANALYTIC PLATFORMFraud Analytics investigative platform review red flag case FAP Fraud Analytics investigative platform inbuilt case manager suite Analytics various ERP system used client interrogate Accounting system identifying anomaly indicator fraud running advanced analyticsTools Technologies HTML JavaScript SqlServer JQuery CSS Bootstrap Nodejs D3js DCjs'"
      ]
     },
     "execution_count": 26,
     "metadata": {},
     "output_type": "execute_result"
    }
   ],
   "source": [
    "df['Resume'][0]"
   ]
  },
  {
   "cell_type": "code",
   "execution_count": 27,
   "metadata": {
    "id": "Dud8ktsXvlX3"
   },
   "outputs": [],
   "source": [
    "from sklearn.feature_extraction.text import TfidfVectorizer\n",
    "\n",
    "tfidf = TfidfVectorizer()\n",
    "\n",
    "tfidf.fit(df['Resume'])\n",
    "\n",
    "tfidf_matrix = tfidf.transform(df['Resume'])"
   ]
  },
  {
   "cell_type": "code",
   "execution_count": 28,
   "metadata": {
    "colab": {
     "base_uri": "https://localhost:8080/"
    },
    "id": "NspjUumHvlSu",
    "outputId": "7f9c5af6-112e-4bbd-9165-c9475067423e"
   },
   "outputs": [
    {
     "data": {
      "text/plain": [
       "<962x9531 sparse matrix of type '<class 'numpy.float64'>'\n",
       "\twith 171572 stored elements in Compressed Sparse Row format>"
      ]
     },
     "execution_count": 28,
     "metadata": {},
     "output_type": "execute_result"
    }
   ],
   "source": [
    "tfidf_matrix"
   ]
  },
  {
   "cell_type": "code",
   "execution_count": 29,
   "metadata": {
    "id": "lp2VpuGQvlOo"
   },
   "outputs": [],
   "source": [
    "feature_names = tfidf.get_feature_names_out()\n"
   ]
  },
  {
   "cell_type": "code",
   "execution_count": 30,
   "metadata": {
    "id": "kpLXO_--vlK1"
   },
   "outputs": [],
   "source": [
    "tfidf_df = pd.DataFrame(tfidf_matrix.toarray(), columns=feature_names)\n"
   ]
  },
  {
   "cell_type": "code",
   "execution_count": 31,
   "metadata": {
    "colab": {
     "base_uri": "https://localhost:8080/"
    },
    "id": "fIs_NnAjvlHc",
    "outputId": "e3ef278f-c619-4687-bbdf-092043bad747"
   },
   "outputs": [
    {
     "data": {
      "text/plain": [
       "(962, 9531)"
      ]
     },
     "execution_count": 31,
     "metadata": {},
     "output_type": "execute_result"
    }
   ],
   "source": [
    "tfidf_df.shape"
   ]
  },
  {
   "cell_type": "code",
   "execution_count": 32,
   "metadata": {
    "id": "MhEGBDTuvlEr"
   },
   "outputs": [],
   "source": [
    "from sklearn.model_selection import train_test_split\n",
    "\n",
    "X_train, X_test, y_train, y_test = train_test_split(tfidf_matrix, df['Category'], test_size=0.2, random_state=24)"
   ]
  },
  {
   "cell_type": "code",
   "execution_count": 33,
   "metadata": {
    "colab": {
     "base_uri": "https://localhost:8080/"
    },
    "id": "l2Vs-Q82vlB2",
    "outputId": "2c2f5eae-448f-4db0-e844-983f7523c5bc"
   },
   "outputs": [
    {
     "data": {
      "text/plain": [
       "(769, 9531)"
      ]
     },
     "execution_count": 33,
     "metadata": {},
     "output_type": "execute_result"
    }
   ],
   "source": [
    "X_train.shape"
   ]
  },
  {
   "cell_type": "code",
   "execution_count": 34,
   "metadata": {
    "colab": {
     "base_uri": "https://localhost:8080/",
     "height": 118
    },
    "id": "3E335k6cvk_q",
    "outputId": "ffd93d5f-2cf7-4b06-c074-a449813e5ce2"
   },
   "outputs": [
    {
     "data": {
      "text/html": [
       "<style>#sk-container-id-1 {color: black;}#sk-container-id-1 pre{padding: 0;}#sk-container-id-1 div.sk-toggleable {background-color: white;}#sk-container-id-1 label.sk-toggleable__label {cursor: pointer;display: block;width: 100%;margin-bottom: 0;padding: 0.3em;box-sizing: border-box;text-align: center;}#sk-container-id-1 label.sk-toggleable__label-arrow:before {content: \"▸\";float: left;margin-right: 0.25em;color: #696969;}#sk-container-id-1 label.sk-toggleable__label-arrow:hover:before {color: black;}#sk-container-id-1 div.sk-estimator:hover label.sk-toggleable__label-arrow:before {color: black;}#sk-container-id-1 div.sk-toggleable__content {max-height: 0;max-width: 0;overflow: hidden;text-align: left;background-color: #f0f8ff;}#sk-container-id-1 div.sk-toggleable__content pre {margin: 0.2em;color: black;border-radius: 0.25em;background-color: #f0f8ff;}#sk-container-id-1 input.sk-toggleable__control:checked~div.sk-toggleable__content {max-height: 200px;max-width: 100%;overflow: auto;}#sk-container-id-1 input.sk-toggleable__control:checked~label.sk-toggleable__label-arrow:before {content: \"▾\";}#sk-container-id-1 div.sk-estimator input.sk-toggleable__control:checked~label.sk-toggleable__label {background-color: #d4ebff;}#sk-container-id-1 div.sk-label input.sk-toggleable__control:checked~label.sk-toggleable__label {background-color: #d4ebff;}#sk-container-id-1 input.sk-hidden--visually {border: 0;clip: rect(1px 1px 1px 1px);clip: rect(1px, 1px, 1px, 1px);height: 1px;margin: -1px;overflow: hidden;padding: 0;position: absolute;width: 1px;}#sk-container-id-1 div.sk-estimator {font-family: monospace;background-color: #f0f8ff;border: 1px dotted black;border-radius: 0.25em;box-sizing: border-box;margin-bottom: 0.5em;}#sk-container-id-1 div.sk-estimator:hover {background-color: #d4ebff;}#sk-container-id-1 div.sk-parallel-item::after {content: \"\";width: 100%;border-bottom: 1px solid gray;flex-grow: 1;}#sk-container-id-1 div.sk-label:hover label.sk-toggleable__label {background-color: #d4ebff;}#sk-container-id-1 div.sk-serial::before {content: \"\";position: absolute;border-left: 1px solid gray;box-sizing: border-box;top: 0;bottom: 0;left: 50%;z-index: 0;}#sk-container-id-1 div.sk-serial {display: flex;flex-direction: column;align-items: center;background-color: white;padding-right: 0.2em;padding-left: 0.2em;position: relative;}#sk-container-id-1 div.sk-item {position: relative;z-index: 1;}#sk-container-id-1 div.sk-parallel {display: flex;align-items: stretch;justify-content: center;background-color: white;position: relative;}#sk-container-id-1 div.sk-item::before, #sk-container-id-1 div.sk-parallel-item::before {content: \"\";position: absolute;border-left: 1px solid gray;box-sizing: border-box;top: 0;bottom: 0;left: 50%;z-index: -1;}#sk-container-id-1 div.sk-parallel-item {display: flex;flex-direction: column;z-index: 1;position: relative;background-color: white;}#sk-container-id-1 div.sk-parallel-item:first-child::after {align-self: flex-end;width: 50%;}#sk-container-id-1 div.sk-parallel-item:last-child::after {align-self: flex-start;width: 50%;}#sk-container-id-1 div.sk-parallel-item:only-child::after {width: 0;}#sk-container-id-1 div.sk-dashed-wrapped {border: 1px dashed gray;margin: 0 0.4em 0.5em 0.4em;box-sizing: border-box;padding-bottom: 0.4em;background-color: white;}#sk-container-id-1 div.sk-label label {font-family: monospace;font-weight: bold;display: inline-block;line-height: 1.2em;}#sk-container-id-1 div.sk-label-container {text-align: center;}#sk-container-id-1 div.sk-container {/* jupyter's `normalize.less` sets `[hidden] { display: none; }` but bootstrap.min.css set `[hidden] { display: none !important; }` so we also need the `!important` here to be able to override the default hidden behavior on the sphinx rendered scikit-learn.org. See: https://github.com/scikit-learn/scikit-learn/issues/21755 */display: inline-block !important;position: relative;}#sk-container-id-1 div.sk-text-repr-fallback {display: none;}</style><div id=\"sk-container-id-1\" class=\"sk-top-container\"><div class=\"sk-text-repr-fallback\"><pre>OneVsRestClassifier(estimator=KNeighborsClassifier())</pre><b>In a Jupyter environment, please rerun this cell to show the HTML representation or trust the notebook. <br />On GitHub, the HTML representation is unable to render, please try loading this page with nbviewer.org.</b></div><div class=\"sk-container\" hidden><div class=\"sk-item sk-dashed-wrapped\"><div class=\"sk-label-container\"><div class=\"sk-label sk-toggleable\"><input class=\"sk-toggleable__control sk-hidden--visually\" id=\"sk-estimator-id-1\" type=\"checkbox\" ><label for=\"sk-estimator-id-1\" class=\"sk-toggleable__label sk-toggleable__label-arrow\">OneVsRestClassifier</label><div class=\"sk-toggleable__content\"><pre>OneVsRestClassifier(estimator=KNeighborsClassifier())</pre></div></div></div><div class=\"sk-parallel\"><div class=\"sk-parallel-item\"><div class=\"sk-item\"><div class=\"sk-label-container\"><div class=\"sk-label sk-toggleable\"><input class=\"sk-toggleable__control sk-hidden--visually\" id=\"sk-estimator-id-2\" type=\"checkbox\" ><label for=\"sk-estimator-id-2\" class=\"sk-toggleable__label sk-toggleable__label-arrow\">estimator: KNeighborsClassifier</label><div class=\"sk-toggleable__content\"><pre>KNeighborsClassifier()</pre></div></div></div><div class=\"sk-serial\"><div class=\"sk-item\"><div class=\"sk-estimator sk-toggleable\"><input class=\"sk-toggleable__control sk-hidden--visually\" id=\"sk-estimator-id-3\" type=\"checkbox\" ><label for=\"sk-estimator-id-3\" class=\"sk-toggleable__label sk-toggleable__label-arrow\">KNeighborsClassifier</label><div class=\"sk-toggleable__content\"><pre>KNeighborsClassifier()</pre></div></div></div></div></div></div></div></div></div></div>"
      ],
      "text/plain": [
       "OneVsRestClassifier(estimator=KNeighborsClassifier())"
      ]
     },
     "execution_count": 34,
     "metadata": {},
     "output_type": "execute_result"
    }
   ],
   "source": [
    "from sklearn.neighbors import KNeighborsClassifier\n",
    "from sklearn.multiclass import OneVsRestClassifier\n",
    "\n",
    "clf = OneVsRestClassifier(KNeighborsClassifier())\n",
    "\n",
    "clf.fit(X_train, y_train)"
   ]
  },
  {
   "cell_type": "code",
   "execution_count": 35,
   "metadata": {
    "id": "AQ6AzQFjvk78"
   },
   "outputs": [],
   "source": [
    "from sklearn.metrics import accuracy_score, confusion_matrix"
   ]
  },
  {
   "cell_type": "code",
   "execution_count": 36,
   "metadata": {
    "id": "fdlZf3FRvk5I"
   },
   "outputs": [],
   "source": [
    "y_pred = clf.predict(X_test)"
   ]
  },
  {
   "cell_type": "code",
   "execution_count": 37,
   "metadata": {
    "colab": {
     "base_uri": "https://localhost:8080/"
    },
    "id": "0-D-zUrV-k3r",
    "outputId": "dbdbce60-5b83-49c8-b75a-00f74b553ff4"
   },
   "outputs": [
    {
     "data": {
      "text/plain": [
       "array([22, 10, 16,  1,  6, 15, 10,  9,  6,  1, 11,  1, 22, 23, 24, 20, 21,\n",
       "       23, 24, 10, 24, 22, 22,  5, 10, 18,  2, 23, 20, 17, 12, 20, 13, 22,\n",
       "       15, 11, 23, 14, 20, 20, 12,  3, 15, 18, 23,  4,  1, 15, 23, 18, 15,\n",
       "        9, 21, 14, 11, 16, 20, 19, 18, 11,  5,  8, 19,  1, 10, 16, 11, 21,\n",
       "        5, 16, 23,  1,  1, 15, 24,  4, 17,  7, 20,  3, 21, 23, 10, 23, 15,\n",
       "       10, 23,  7,  8, 23,  8, 14, 14,  6, 18, 17, 23, 10, 13, 15, 22, 15,\n",
       "       18, 20,  3,  9, 20,  8, 16, 11,  8, 24, 18, 21, 11, 15,  9, 15, 13,\n",
       "       16,  1,  8, 15,  8, 24, 13, 14, 12,  7, 19, 14,  1, 16,  9, 19, 10,\n",
       "       11,  3,  8, 15, 22, 19, 15, 23,  3, 17,  2,  2, 14, 19,  8, 20, 11,\n",
       "       12,  7, 19, 22, 13, 24,  3, 24,  9, 14,  3, 10,  1, 19, 22, 13, 15,\n",
       "       17,  0, 18, 15,  6, 21, 24, 20, 17,  8,  3, 11,  4,  2,  7, 20,  7,\n",
       "        3, 20,  0,  1, 21, 24])"
      ]
     },
     "execution_count": 37,
     "metadata": {},
     "output_type": "execute_result"
    }
   ],
   "source": [
    "y_pred"
   ]
  },
  {
   "cell_type": "code",
   "execution_count": 38,
   "metadata": {
    "colab": {
     "base_uri": "https://localhost:8080/"
    },
    "id": "EovCCM-u-mMW",
    "outputId": "3db19b63-3793-4f09-bde6-a9938e009385"
   },
   "outputs": [
    {
     "data": {
      "text/plain": [
       "0.9430051813471503"
      ]
     },
     "execution_count": 38,
     "metadata": {},
     "output_type": "execute_result"
    }
   ],
   "source": [
    "accuracy_score(y_test, y_pred)"
   ]
  },
  {
   "cell_type": "code",
   "execution_count": 39,
   "metadata": {
    "id": "c3fCSdun_-1X"
   },
   "outputs": [],
   "source": [
    "from sklearn.metrics import f1_score"
   ]
  },
  {
   "cell_type": "code",
   "execution_count": 40,
   "metadata": {
    "colab": {
     "base_uri": "https://localhost:8080/"
    },
    "id": "eWY1Le53AOL7",
    "outputId": "b06700fd-7188-469c-8af6-60a58da20f66"
   },
   "outputs": [
    {
     "name": "stdout",
     "output_type": "stream",
     "text": [
      "              precision    recall  f1-score   support\n",
      "\n",
      "           0       1.00      0.50      0.67         4\n",
      "           1       0.82      1.00      0.90         9\n",
      "           2       1.00      0.67      0.80         6\n",
      "           3       1.00      1.00      1.00         9\n",
      "           4       1.00      1.00      1.00         3\n",
      "           5       1.00      1.00      1.00         3\n",
      "           6       1.00      0.57      0.73         7\n",
      "           7       1.00      1.00      1.00         6\n",
      "           8       1.00      1.00      1.00        10\n",
      "           9       1.00      1.00      1.00         6\n",
      "          10       1.00      1.00      1.00        10\n",
      "          11       0.80      1.00      0.89         8\n",
      "          12       0.50      0.33      0.40         6\n",
      "          13       1.00      1.00      1.00         6\n",
      "          14       1.00      1.00      1.00         8\n",
      "          15       1.00      1.00      1.00        16\n",
      "          16       1.00      1.00      1.00         7\n",
      "          17       1.00      1.00      1.00         6\n",
      "          18       1.00      1.00      1.00         8\n",
      "          19       1.00      1.00      1.00         8\n",
      "          20       0.85      1.00      0.92        11\n",
      "          21       0.57      1.00      0.73         4\n",
      "          22       1.00      1.00      1.00         9\n",
      "          23       1.00      1.00      1.00        13\n",
      "          24       1.00      1.00      1.00        10\n",
      "\n",
      "    accuracy                           0.94       193\n",
      "   macro avg       0.94      0.92      0.92       193\n",
      "weighted avg       0.95      0.94      0.94       193\n",
      "\n"
     ]
    }
   ],
   "source": [
    "from sklearn.metrics import classification_report\n",
    "\n",
    "report = classification_report(y_test, y_pred)\n",
    "print(report)\n"
   ]
  },
  {
   "cell_type": "code",
   "execution_count": 41,
   "metadata": {
    "id": "E6Orok03GFF8"
   },
   "outputs": [],
   "source": [
    "# import pickle\n",
    "# tfidf_path = '/content/drive/MyDrive/resume_screening_NLP/tfidf.pkl'\n",
    "# pickle.dump(tfidf, open(tfidf_path, \"wb\"))"
   ]
  },
  {
   "cell_type": "code",
   "execution_count": 42,
   "metadata": {
    "id": "8sp8mi5bGWcL"
   },
   "outputs": [],
   "source": [
    "# model_path = '/content/drive/MyDrive/resume_screening_NLP/clf.pkl'\n",
    "# pickle.dump(clf, open(model_path, 'wb'))"
   ]
  },
  {
   "cell_type": "code",
   "execution_count": 43,
   "metadata": {
    "colab": {
     "base_uri": "https://localhost:8080/"
    },
    "id": "y5gCZDggKZZo",
    "outputId": "639223f6-fa23-41bd-8b9f-24f88365eb87"
   },
   "outputs": [
    {
     "name": "stdout",
     "output_type": "stream",
     "text": [
      "\n",
      "SANJEEV KUMAR THAKUR\n",
      "OBJECTIVE\n",
      "Driven and ready to thrive in demanding digital intelligence processing environments. Well-informed on the latest machine learning advancements. Willing to combine tireless hunger for new skills with the desire to exploit cutting-edge data science technology.\n",
      "WORK EXPERIENCE\n",
      "Operations Executive — Derbii July 2018 - January 2019\n",
      "● Strategically coordinated operations according to objectives and capabilities, e�ectively allocating resources to meet demands.\n",
      "● Defined strategic goals and worked with the team.\n",
      "SELF PROJECTS\n",
      "Yolov5 Drowsiness Detection — Deep Learning\n",
      "● Built a real-time drowsiness detection model using YOLO(You Only Look Once) algorithm by Yolov5 represented by Ultralytics open-source research.\n",
      "● Performed this using PyTorch and yolov5 by ultralytics.\n",
      "● Accuracy of almost 99.95%.\n",
      "Cardiovascular Risk Prediction — Classification\n",
      "● Built a cardiovascular risk prediction using various classification algorithms like k-nn, logistic regression, support vector machine etc.\n",
      "● Used SMOTE to handle class imbalance for the target variable.\n",
      "● Categorical accuracy of almost 95.9% and F1 Score of 90%. Automatic Attendance System — Deep Learning\n",
      "● This program recognises faces from live video feeds and marks the attendance to a CSV file.\n",
      "● This uses popular libraries like OpenCV and face_recognition.\n",
      "Lipread- Speech Recognition — Deep Learning\n",
      "● In this project, we tried to build a deep learning model to\n",
      "recognise spoken words from a person’s lip movements.\n",
      "● We used libraries like OpenCV and TensorFlow and also created a streamlit app.\n",
      "New Delhi +91-8826081844 skaty5678@gmail.com\n",
      "EDUCATION\n",
      "B.Sc (H) Mathematics\n",
      "University of Delhi, New Delhi - 2015-2018\n",
      "SKILLS\n",
      "Data Science, Data Analytics, Machine Learning, Deep Learning, Computer Vision, Python, Tensorflow, SQL, PyTorch, Scrapy, Tableau, Sklearn, MongoDB, Neural Networks, openCV.\n",
      "CERTIFICATES\n",
      "Deep Learning Specialization -\n",
      "Coursera\n",
      "Feb 2022 - Jun 2022\n",
      "Machine Learning Specialization - Coursera\n",
      "Aug 2022 - Sept 2022\n",
      "LANGUAGES\n",
      "English Hindi\n",
      "\n"
     ]
    }
   ],
   "source": [
    "import re\n",
    "\n",
    "# Provided resume text\n",
    "resume_text = '''\n",
    "SANJEEV KUMAR THAKUR\n",
    "OBJECTIVE\n",
    "Driven and ready to thrive in demanding digital intelligence processing environments. Well-informed on the latest machine learning advancements. Willing to combine tireless hunger for new skills with the desire to exploit cutting-edge data science technology.\n",
    "WORK EXPERIENCE\n",
    "Operations Executive — Derbii July 2018 - January 2019\n",
    "● Strategically coordinated operations according to objectives and capabilities, e�ectively allocating resources to meet demands.\n",
    "● Defined strategic goals and worked with the team.\n",
    "SELF PROJECTS\n",
    "Yolov5 Drowsiness Detection — Deep Learning\n",
    "● Built a real-time drowsiness detection model using YOLO(You Only Look Once) algorithm by Yolov5 represented by Ultralytics open-source research.\n",
    "● Performed this using PyTorch and yolov5 by ultralytics.\n",
    "● Accuracy of almost 99.95%.\n",
    "Cardiovascular Risk Prediction — Classification\n",
    "● Built a cardiovascular risk prediction using various classification algorithms like k-nn, logistic regression, support vector machine etc.\n",
    "● Used SMOTE to handle class imbalance for the target variable.\n",
    "● Categorical accuracy of almost 95.9% and F1 Score of 90%. Automatic Attendance System — Deep Learning\n",
    "● This program recognises faces from live video feeds and marks the attendance to a CSV file.\n",
    "● This uses popular libraries like OpenCV and face_recognition.\n",
    "Lipread- Speech Recognition — Deep Learning\n",
    "● In this project, we tried to build a deep learning model to\n",
    "recognise spoken words from a person’s lip movements.\n",
    "● We used libraries like OpenCV and TensorFlow and also created a streamlit app.\n",
    "New Delhi +91-8826081844 skaty5678@gmail.com\n",
    "EDUCATION\n",
    "B.Sc (H) Mathematics\n",
    "University of Delhi, New Delhi - 2015-2018\n",
    "SKILLS\n",
    "Data Science, Data Analytics, Machine Learning, Deep Learning, Computer Vision, Python, Tensorflow, SQL, PyTorch, Scrapy, Tableau, Sklearn, MongoDB, Neural Networks, openCV.\n",
    "CERTIFICATES\n",
    "Deep Learning Specialization -\n",
    "Coursera\n",
    "Feb 2022 - Jun 2022\n",
    "Machine Learning Specialization - Coursera\n",
    "Aug 2022 - Sept 2022\n",
    "LANGUAGES\n",
    "English Hindi\n",
    "'''\n",
    "\n",
    "# Remove multiple consecutive spaces\n",
    "my_resume = re.sub(r'\\s{2,}', ' ', resume_text)\n",
    "\n",
    "# Print the result\n",
    "print(my_resume)\n"
   ]
  },
  {
   "cell_type": "code",
   "execution_count": 44,
   "metadata": {
    "id": "zVca6HrJDEom"
   },
   "outputs": [],
   "source": [
    "my_resume = cleanResume(my_resume)"
   ]
  },
  {
   "cell_type": "code",
   "execution_count": 45,
   "metadata": {
    "id": "_ikxsegVDMcF"
   },
   "outputs": [],
   "source": [
    "my_resume = remove_stopwords(my_resume)"
   ]
  },
  {
   "cell_type": "code",
   "execution_count": 46,
   "metadata": {
    "colab": {
     "base_uri": "https://localhost:8080/",
     "height": 226
    },
    "id": "Q-H9rO8BDhFo",
    "outputId": "c179fdb3-dd9e-4e81-9425-ea73c3069e5e"
   },
   "outputs": [
    {
     "data": {
      "text/plain": [
       "'SANJEEV KUMAR THAKUROBJECTIVEDriven ready thrive demanding digital intelligence processing environments Wellinformed latest machine learning advancements Willing combine tireless hunger new skills desire exploit cuttingedge data science technologyWORK EXPERIENCEOperations Executive Derbii July 2018 January 2019 Strategically coordinated operations according objectives capabilities eectively allocating resources meet demands Defined strategic goals worked teamSELF PROJECTSYolov5 Drowsiness Detection Deep Learning Built realtime drowsiness detection model using YOLOYou Look algorithm Yolov5 represented Ultralytics opensource research Performed using PyTorch yolov5 ultralytics Accuracy almost 9995Cardiovascular Risk Prediction Classification Built cardiovascular risk prediction using various classification algorithms like knn logistic regression support vector machine etc Used SMOTE handle class imbalance target variable Categorical accuracy almost 959 F1 Score 90 Automatic Attendance System Deep Learning program recognises faces live video feeds marks attendance CSV file uses popular libraries like OpenCV facerecognitionLipread Speech Recognition Deep Learning project tried build deep learning model torecognise spoken words persons lip movements used libraries like OpenCV TensorFlow also created streamlit appNew Delhi 918826081844 skaty5678gmailcomEDUCATIONBSc H MathematicsUniversity Delhi New Delhi 20152018SKILLSData Science Data Analytics Machine Learning Deep Learning Computer Vision Python Tensorflow SQL PyTorch Scrapy Tableau Sklearn MongoDB Neural Networks openCVCERTIFICATESDeep Learning Specialization CourseraFeb 2022 Jun 2022Machine Learning Specialization CourseraAug 2022 Sept 2022LANGUAGESEnglish Hindi'"
      ]
     },
     "execution_count": 46,
     "metadata": {},
     "output_type": "execute_result"
    }
   ],
   "source": [
    "my_resume"
   ]
  },
  {
   "cell_type": "code",
   "execution_count": 47,
   "metadata": {
    "id": "men_CE_UDiCJ"
   },
   "outputs": [],
   "source": [
    "my_resume = lemmatize(my_resume)"
   ]
  },
  {
   "cell_type": "code",
   "execution_count": 48,
   "metadata": {
    "colab": {
     "base_uri": "https://localhost:8080/",
     "height": 140
    },
    "id": "Lj_brvuEDly5",
    "outputId": "b21c4076-380f-4914-9256-ad89c66fa4a5"
   },
   "outputs": [
    {
     "data": {
      "text/plain": [
       "'SANJEEV KUMAR THAKUROBJECTIVEDriven ready thrive demanding digital intelligence processing environment Wellinformed latest machine learning advancement Willing combine tireless hunger new skill desire exploit cuttingedge data science technologyWORK EXPERIENCEOperations Executive Derbii July 2018 January 2019 Strategically coordinated operation according objective capability eectively allocating resource meet demand Defined strategic goal worked teamSELF PROJECTSYolov5 Drowsiness Detection Deep Learning Built realtime drowsiness detection model using YOLOYou Look algorithm Yolov5 represented Ultralytics opensource research Performed using PyTorch yolov5 ultralytics Accuracy almost 9995Cardiovascular Risk Prediction Classification Built cardiovascular risk prediction using various classification algorithm like knn logistic regression support vector machine etc Used SMOTE handle class imbalance target variable Categorical accuracy almost 959 F1 Score 90 Automatic Attendance System Deep Learning program recognises face live video feed mark attendance CSV file us popular library like OpenCV facerecognitionLipread Speech Recognition Deep Learning project tried build deep learning model torecognise spoken word person lip movement used library like OpenCV TensorFlow also created streamlit appNew Delhi 918826081844 skaty5678gmailcomEDUCATIONBSc H MathematicsUniversity Delhi New Delhi 20152018SKILLSData Science Data Analytics Machine Learning Deep Learning Computer Vision Python Tensorflow SQL PyTorch Scrapy Tableau Sklearn MongoDB Neural Networks openCVCERTIFICATESDeep Learning Specialization CourseraFeb 2022 Jun 2022Machine Learning Specialization CourseraAug 2022 Sept 2022LANGUAGESEnglish Hindi'"
      ]
     },
     "execution_count": 48,
     "metadata": {},
     "output_type": "execute_result"
    }
   ],
   "source": [
    "my_resume"
   ]
  },
  {
   "cell_type": "code",
   "execution_count": 49,
   "metadata": {
    "id": "jLoWLrJ2EbsP"
   },
   "outputs": [],
   "source": [
    "import pickle"
   ]
  },
  {
   "cell_type": "code",
   "execution_count": 51,
   "metadata": {
    "id": "TlnR-cCDEOHO"
   },
   "outputs": [
    {
     "name": "stderr",
     "output_type": "stream",
     "text": [
      "C:\\Users\\Suraj\\anaconda3\\Lib\\site-packages\\sklearn\\base.py:347: InconsistentVersionWarning: Trying to unpickle estimator KNeighborsClassifier from version 1.2.2 when using version 1.3.0. This might lead to breaking code or invalid results. Use at your own risk. For more info please refer to:\n",
      "https://scikit-learn.org/stable/model_persistence.html#security-maintainability-limitations\n",
      "  warnings.warn(\n",
      "C:\\Users\\Suraj\\anaconda3\\Lib\\site-packages\\sklearn\\base.py:347: InconsistentVersionWarning: Trying to unpickle estimator LabelBinarizer from version 1.2.2 when using version 1.3.0. This might lead to breaking code or invalid results. Use at your own risk. For more info please refer to:\n",
      "https://scikit-learn.org/stable/model_persistence.html#security-maintainability-limitations\n",
      "  warnings.warn(\n",
      "C:\\Users\\Suraj\\anaconda3\\Lib\\site-packages\\sklearn\\base.py:347: InconsistentVersionWarning: Trying to unpickle estimator OneVsRestClassifier from version 1.2.2 when using version 1.3.0. This might lead to breaking code or invalid results. Use at your own risk. For more info please refer to:\n",
      "https://scikit-learn.org/stable/model_persistence.html#security-maintainability-limitations\n",
      "  warnings.warn(\n"
     ]
    }
   ],
   "source": [
    "clf = pickle.load(open('C:\\\\Users\\\\Suraj\\\\Downloads\\\\NLP\\\\resume_screening_NLP-main\\\\clf.pkl', 'rb'))"
   ]
  },
  {
   "cell_type": "code",
   "execution_count": 52,
   "metadata": {
    "id": "k1dsXZETEu3b"
   },
   "outputs": [],
   "source": [
    "input_features = tfidf.transform([my_resume])"
   ]
  },
  {
   "cell_type": "code",
   "execution_count": 53,
   "metadata": {
    "colab": {
     "base_uri": "https://localhost:8080/"
    },
    "id": "r44GiyuVE3RM",
    "outputId": "853ef97d-3e59-4375-ef0e-cf74ca18faff"
   },
   "outputs": [
    {
     "data": {
      "text/plain": [
       "<1x9531 sparse matrix of type '<class 'numpy.float64'>'\n",
       "\twith 100 stored elements in Compressed Sparse Row format>"
      ]
     },
     "execution_count": 53,
     "metadata": {},
     "output_type": "execute_result"
    }
   ],
   "source": [
    "input_features"
   ]
  },
  {
   "cell_type": "code",
   "execution_count": 54,
   "metadata": {
    "id": "GNNpFKe1E5Cn"
   },
   "outputs": [],
   "source": [
    "prediction = clf.predict(input_features)[0]"
   ]
  },
  {
   "cell_type": "code",
   "execution_count": 55,
   "metadata": {
    "colab": {
     "base_uri": "https://localhost:8080/"
    },
    "id": "s1_7LR_AFIJP",
    "outputId": "f8bfe9a5-b43b-4a6a-ac3f-6cc3b40d0a81"
   },
   "outputs": [
    {
     "data": {
      "text/plain": [
       "6"
      ]
     },
     "execution_count": 55,
     "metadata": {},
     "output_type": "execute_result"
    }
   ],
   "source": [
    "prediction"
   ]
  },
  {
   "cell_type": "code",
   "execution_count": 56,
   "metadata": {
    "colab": {
     "base_uri": "https://localhost:8080/",
     "height": 35
    },
    "id": "pRFun9MBFbUL",
    "outputId": "e279b7bd-0a52-4829-9bdd-949febf96e1f"
   },
   "outputs": [
    {
     "data": {
      "text/plain": [
       "'Data Science'"
      ]
     },
     "execution_count": 56,
     "metadata": {},
     "output_type": "execute_result"
    }
   ],
   "source": [
    "final_prediction = label_to_category.get(prediction, 'unknown')\n",
    "final_prediction"
   ]
  },
  {
   "cell_type": "code",
   "execution_count": null,
   "metadata": {
    "id": "w12_73-fGrVJ"
   },
   "outputs": [],
   "source": [
    "# def screen_resume(resume_text, clf, tfidf):\n",
    "\n",
    "#     cleaned_resume = cleanResume(resume_text)\n",
    "#     resume_without_stopwords = remove_stopwords(cleaned_resume)\n",
    "#     lemmatized_resume = lemmatize(resume_without_stopwords)\n",
    "\n",
    "#     input_features = tfidf.transform([lemmatized_resume])\n",
    "#     prediction = clf.predict(input_features)[0]\n",
    "\n",
    "#     return prediction"
   ]
  }
 ],
 "metadata": {
  "colab": {
   "provenance": []
  },
  "kernelspec": {
   "display_name": "Python 3 (ipykernel)",
   "language": "python",
   "name": "python3"
  },
  "language_info": {
   "codemirror_mode": {
    "name": "ipython",
    "version": 3
   },
   "file_extension": ".py",
   "mimetype": "text/x-python",
   "name": "python",
   "nbconvert_exporter": "python",
   "pygments_lexer": "ipython3",
   "version": "3.11.4"
  }
 },
 "nbformat": 4,
 "nbformat_minor": 1
}
