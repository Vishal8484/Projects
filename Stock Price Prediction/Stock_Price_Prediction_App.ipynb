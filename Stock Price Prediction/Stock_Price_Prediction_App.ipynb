{
  "cells": [
    {
      "cell_type": "code",
      "execution_count": null,
      "id": "9960f9f1",
      "metadata": {
        "id": "9960f9f1"
      },
      "outputs": [],
      "source": [
        "import numpy as np\n",
        "import pandas as pd\n",
        "import matplotlib.pyplot as plt\n",
        "import pandas_datareader as data"
      ]
    },
    {
      "cell_type": "code",
      "execution_count": null,
      "id": "86c72c0d",
      "metadata": {
        "id": "86c72c0d",
        "outputId": "ab652194-4f39-457d-c3bc-d715c8ce8ebf"
      },
      "outputs": [
        {
          "data": {
            "text/html": [
              "<div>\n",
              "<style scoped>\n",
              "    .dataframe tbody tr th:only-of-type {\n",
              "        vertical-align: middle;\n",
              "    }\n",
              "\n",
              "    .dataframe tbody tr th {\n",
              "        vertical-align: top;\n",
              "    }\n",
              "\n",
              "    .dataframe thead th {\n",
              "        text-align: right;\n",
              "    }\n",
              "</style>\n",
              "<table border=\"1\" class=\"dataframe\">\n",
              "  <thead>\n",
              "    <tr style=\"text-align: right;\">\n",
              "      <th></th>\n",
              "      <th>Open</th>\n",
              "      <th>High</th>\n",
              "      <th>Low</th>\n",
              "      <th>Close</th>\n",
              "      <th>Volume</th>\n",
              "    </tr>\n",
              "    <tr>\n",
              "      <th>Date</th>\n",
              "      <th></th>\n",
              "      <th></th>\n",
              "      <th></th>\n",
              "      <th></th>\n",
              "      <th></th>\n",
              "    </tr>\n",
              "  </thead>\n",
              "  <tbody>\n",
              "    <tr>\n",
              "      <th>2020-12-31</th>\n",
              "      <td>132.486</td>\n",
              "      <td>133.134</td>\n",
              "      <td>130.153</td>\n",
              "      <td>131.120</td>\n",
              "      <td>1.003064e+08</td>\n",
              "    </tr>\n",
              "    <tr>\n",
              "      <th>2020-12-30</th>\n",
              "      <td>133.932</td>\n",
              "      <td>134.380</td>\n",
              "      <td>131.818</td>\n",
              "      <td>132.137</td>\n",
              "      <td>9.760997e+07</td>\n",
              "    </tr>\n",
              "    <tr>\n",
              "      <th>2020-12-29</th>\n",
              "      <td>136.414</td>\n",
              "      <td>137.142</td>\n",
              "      <td>132.745</td>\n",
              "      <td>133.264</td>\n",
              "      <td>1.225004e+08</td>\n",
              "    </tr>\n",
              "    <tr>\n",
              "      <th>2020-12-28</th>\n",
              "      <td>132.396</td>\n",
              "      <td>135.726</td>\n",
              "      <td>131.927</td>\n",
              "      <td>135.078</td>\n",
              "      <td>1.259806e+08</td>\n",
              "    </tr>\n",
              "    <tr>\n",
              "      <th>2020-12-24</th>\n",
              "      <td>129.754</td>\n",
              "      <td>131.878</td>\n",
              "      <td>129.535</td>\n",
              "      <td>130.403</td>\n",
              "      <td>5.558946e+07</td>\n",
              "    </tr>\n",
              "  </tbody>\n",
              "</table>\n",
              "</div>"
            ],
            "text/plain": [
              "               Open     High      Low    Close        Volume\n",
              "Date                                                        \n",
              "2020-12-31  132.486  133.134  130.153  131.120  1.003064e+08\n",
              "2020-12-30  133.932  134.380  131.818  132.137  9.760997e+07\n",
              "2020-12-29  136.414  137.142  132.745  133.264  1.225004e+08\n",
              "2020-12-28  132.396  135.726  131.927  135.078  1.259806e+08\n",
              "2020-12-24  129.754  131.878  129.535  130.403  5.558946e+07"
            ]
          },
          "execution_count": 2,
          "metadata": {},
          "output_type": "execute_result"
        }
      ],
      "source": [
        "start = '2020-01-01'\n",
        "end = '2020-12-31'\n",
        "\n",
        "df = data.DataReader('AAPL.US','stooq',start,end)\n",
        "df.head()"
      ]
    },
    {
      "cell_type": "code",
      "execution_count": null,
      "id": "916f970c",
      "metadata": {
        "id": "916f970c",
        "outputId": "19440f27-b32c-435c-b957-433f6186dfcd"
      },
      "outputs": [
        {
          "data": {
            "text/html": [
              "<div>\n",
              "<style scoped>\n",
              "    .dataframe tbody tr th:only-of-type {\n",
              "        vertical-align: middle;\n",
              "    }\n",
              "\n",
              "    .dataframe tbody tr th {\n",
              "        vertical-align: top;\n",
              "    }\n",
              "\n",
              "    .dataframe thead th {\n",
              "        text-align: right;\n",
              "    }\n",
              "</style>\n",
              "<table border=\"1\" class=\"dataframe\">\n",
              "  <thead>\n",
              "    <tr style=\"text-align: right;\">\n",
              "      <th></th>\n",
              "      <th>Open</th>\n",
              "      <th>High</th>\n",
              "      <th>Low</th>\n",
              "      <th>Close</th>\n",
              "      <th>Volume</th>\n",
              "    </tr>\n",
              "    <tr>\n",
              "      <th>Date</th>\n",
              "      <th></th>\n",
              "      <th></th>\n",
              "      <th></th>\n",
              "      <th></th>\n",
              "      <th></th>\n",
              "    </tr>\n",
              "  </thead>\n",
              "  <tbody>\n",
              "    <tr>\n",
              "      <th>2020-01-08</th>\n",
              "      <td>72.7810</td>\n",
              "      <td>74.5626</td>\n",
              "      <td>72.7790</td>\n",
              "      <td>74.2575</td>\n",
              "      <td>1.351095e+08</td>\n",
              "    </tr>\n",
              "    <tr>\n",
              "      <th>2020-01-07</th>\n",
              "      <td>73.4350</td>\n",
              "      <td>73.6972</td>\n",
              "      <td>72.8607</td>\n",
              "      <td>73.0831</td>\n",
              "      <td>1.138238e+08</td>\n",
              "    </tr>\n",
              "    <tr>\n",
              "      <th>2020-01-06</th>\n",
              "      <td>71.9515</td>\n",
              "      <td>73.4649</td>\n",
              "      <td>71.7023</td>\n",
              "      <td>73.4250</td>\n",
              "      <td>1.210384e+08</td>\n",
              "    </tr>\n",
              "    <tr>\n",
              "      <th>2020-01-03</th>\n",
              "      <td>72.7790</td>\n",
              "      <td>73.6185</td>\n",
              "      <td>72.6185</td>\n",
              "      <td>72.8488</td>\n",
              "      <td>1.495753e+08</td>\n",
              "    </tr>\n",
              "    <tr>\n",
              "      <th>2020-01-02</th>\n",
              "      <td>72.5537</td>\n",
              "      <td>73.6225</td>\n",
              "      <td>72.2955</td>\n",
              "      <td>73.5616</td>\n",
              "      <td>1.384613e+08</td>\n",
              "    </tr>\n",
              "  </tbody>\n",
              "</table>\n",
              "</div>"
            ],
            "text/plain": [
              "               Open     High      Low    Close        Volume\n",
              "Date                                                        \n",
              "2020-01-08  72.7810  74.5626  72.7790  74.2575  1.351095e+08\n",
              "2020-01-07  73.4350  73.6972  72.8607  73.0831  1.138238e+08\n",
              "2020-01-06  71.9515  73.4649  71.7023  73.4250  1.210384e+08\n",
              "2020-01-03  72.7790  73.6185  72.6185  72.8488  1.495753e+08\n",
              "2020-01-02  72.5537  73.6225  72.2955  73.5616  1.384613e+08"
            ]
          },
          "execution_count": 3,
          "metadata": {},
          "output_type": "execute_result"
        }
      ],
      "source": [
        "df.tail()"
      ]
    },
    {
      "cell_type": "code",
      "execution_count": null,
      "id": "5a636b1f",
      "metadata": {
        "id": "5a636b1f",
        "outputId": "5b3052e7-6e94-41b8-8c77-24f0eb61704e"
      },
      "outputs": [
        {
          "data": {
            "text/html": [
              "<div>\n",
              "<style scoped>\n",
              "    .dataframe tbody tr th:only-of-type {\n",
              "        vertical-align: middle;\n",
              "    }\n",
              "\n",
              "    .dataframe tbody tr th {\n",
              "        vertical-align: top;\n",
              "    }\n",
              "\n",
              "    .dataframe thead th {\n",
              "        text-align: right;\n",
              "    }\n",
              "</style>\n",
              "<table border=\"1\" class=\"dataframe\">\n",
              "  <thead>\n",
              "    <tr style=\"text-align: right;\">\n",
              "      <th></th>\n",
              "      <th>Date</th>\n",
              "      <th>Open</th>\n",
              "      <th>High</th>\n",
              "      <th>Low</th>\n",
              "      <th>Close</th>\n",
              "      <th>Volume</th>\n",
              "    </tr>\n",
              "  </thead>\n",
              "  <tbody>\n",
              "    <tr>\n",
              "      <th>0</th>\n",
              "      <td>2020-12-31</td>\n",
              "      <td>132.486</td>\n",
              "      <td>133.134</td>\n",
              "      <td>130.153</td>\n",
              "      <td>131.120</td>\n",
              "      <td>1.003064e+08</td>\n",
              "    </tr>\n",
              "    <tr>\n",
              "      <th>1</th>\n",
              "      <td>2020-12-30</td>\n",
              "      <td>133.932</td>\n",
              "      <td>134.380</td>\n",
              "      <td>131.818</td>\n",
              "      <td>132.137</td>\n",
              "      <td>9.760997e+07</td>\n",
              "    </tr>\n",
              "    <tr>\n",
              "      <th>2</th>\n",
              "      <td>2020-12-29</td>\n",
              "      <td>136.414</td>\n",
              "      <td>137.142</td>\n",
              "      <td>132.745</td>\n",
              "      <td>133.264</td>\n",
              "      <td>1.225004e+08</td>\n",
              "    </tr>\n",
              "    <tr>\n",
              "      <th>3</th>\n",
              "      <td>2020-12-28</td>\n",
              "      <td>132.396</td>\n",
              "      <td>135.726</td>\n",
              "      <td>131.927</td>\n",
              "      <td>135.078</td>\n",
              "      <td>1.259806e+08</td>\n",
              "    </tr>\n",
              "    <tr>\n",
              "      <th>4</th>\n",
              "      <td>2020-12-24</td>\n",
              "      <td>129.754</td>\n",
              "      <td>131.878</td>\n",
              "      <td>129.535</td>\n",
              "      <td>130.403</td>\n",
              "      <td>5.558946e+07</td>\n",
              "    </tr>\n",
              "  </tbody>\n",
              "</table>\n",
              "</div>"
            ],
            "text/plain": [
              "        Date     Open     High      Low    Close        Volume\n",
              "0 2020-12-31  132.486  133.134  130.153  131.120  1.003064e+08\n",
              "1 2020-12-30  133.932  134.380  131.818  132.137  9.760997e+07\n",
              "2 2020-12-29  136.414  137.142  132.745  133.264  1.225004e+08\n",
              "3 2020-12-28  132.396  135.726  131.927  135.078  1.259806e+08\n",
              "4 2020-12-24  129.754  131.878  129.535  130.403  5.558946e+07"
            ]
          },
          "execution_count": 4,
          "metadata": {},
          "output_type": "execute_result"
        }
      ],
      "source": [
        "#Reset the index\n",
        "df = df.reset_index()\n",
        "df.head()"
      ]
    },
    {
      "cell_type": "code",
      "execution_count": null,
      "id": "52c80b3b",
      "metadata": {
        "id": "52c80b3b",
        "outputId": "966404a6-8dce-4951-8d8f-ed54b1bfc883"
      },
      "outputs": [
        {
          "data": {
            "text/html": [
              "<div>\n",
              "<style scoped>\n",
              "    .dataframe tbody tr th:only-of-type {\n",
              "        vertical-align: middle;\n",
              "    }\n",
              "\n",
              "    .dataframe tbody tr th {\n",
              "        vertical-align: top;\n",
              "    }\n",
              "\n",
              "    .dataframe thead th {\n",
              "        text-align: right;\n",
              "    }\n",
              "</style>\n",
              "<table border=\"1\" class=\"dataframe\">\n",
              "  <thead>\n",
              "    <tr style=\"text-align: right;\">\n",
              "      <th></th>\n",
              "      <th>Open</th>\n",
              "      <th>High</th>\n",
              "      <th>Low</th>\n",
              "      <th>Close</th>\n",
              "      <th>Volume</th>\n",
              "    </tr>\n",
              "  </thead>\n",
              "  <tbody>\n",
              "    <tr>\n",
              "      <th>0</th>\n",
              "      <td>132.486</td>\n",
              "      <td>133.134</td>\n",
              "      <td>130.153</td>\n",
              "      <td>131.120</td>\n",
              "      <td>1.003064e+08</td>\n",
              "    </tr>\n",
              "    <tr>\n",
              "      <th>1</th>\n",
              "      <td>133.932</td>\n",
              "      <td>134.380</td>\n",
              "      <td>131.818</td>\n",
              "      <td>132.137</td>\n",
              "      <td>9.760997e+07</td>\n",
              "    </tr>\n",
              "    <tr>\n",
              "      <th>2</th>\n",
              "      <td>136.414</td>\n",
              "      <td>137.142</td>\n",
              "      <td>132.745</td>\n",
              "      <td>133.264</td>\n",
              "      <td>1.225004e+08</td>\n",
              "    </tr>\n",
              "    <tr>\n",
              "      <th>3</th>\n",
              "      <td>132.396</td>\n",
              "      <td>135.726</td>\n",
              "      <td>131.927</td>\n",
              "      <td>135.078</td>\n",
              "      <td>1.259806e+08</td>\n",
              "    </tr>\n",
              "    <tr>\n",
              "      <th>4</th>\n",
              "      <td>129.754</td>\n",
              "      <td>131.878</td>\n",
              "      <td>129.535</td>\n",
              "      <td>130.403</td>\n",
              "      <td>5.558946e+07</td>\n",
              "    </tr>\n",
              "  </tbody>\n",
              "</table>\n",
              "</div>"
            ],
            "text/plain": [
              "      Open     High      Low    Close        Volume\n",
              "0  132.486  133.134  130.153  131.120  1.003064e+08\n",
              "1  133.932  134.380  131.818  132.137  9.760997e+07\n",
              "2  136.414  137.142  132.745  133.264  1.225004e+08\n",
              "3  132.396  135.726  131.927  135.078  1.259806e+08\n",
              "4  129.754  131.878  129.535  130.403  5.558946e+07"
            ]
          },
          "execution_count": 5,
          "metadata": {},
          "output_type": "execute_result"
        }
      ],
      "source": [
        "#Droping the data\n",
        "df = df.drop(['Date'],axis = 1)\n",
        "df.head()"
      ]
    },
    {
      "cell_type": "code",
      "execution_count": null,
      "id": "77a2ac9e",
      "metadata": {
        "id": "77a2ac9e",
        "outputId": "15fa430c-e974-415e-ccfd-8313ec21f61f"
      },
      "outputs": [
        {
          "data": {
            "text/plain": [
              "[<matplotlib.lines.Line2D at 0x1ac07104b90>]"
            ]
          },
          "execution_count": 6,
          "metadata": {},
          "output_type": "execute_result"
        },
        {
          "data": {
            "image/png": "[encoded data removed]",
            "text/plain": [
              "<Figure size 640x480 with 1 Axes>"
            ]
          },
          "metadata": {},
          "output_type": "display_data"
        }
      ],
      "source": [
        "#here you can create a All three values for results.[close]\n",
        "plt.plot(df.Close)"
      ]
    },
    {
      "cell_type": "code",
      "execution_count": null,
      "id": "9d661d80",
      "metadata": {
        "id": "9d661d80",
        "outputId": "2ea5279f-0bc7-4685-b4ad-445bcb3cf9a2"
      },
      "outputs": [
        {
          "data": {
            "text/html": [
              "<div>\n",
              "<style scoped>\n",
              "    .dataframe tbody tr th:only-of-type {\n",
              "        vertical-align: middle;\n",
              "    }\n",
              "\n",
              "    .dataframe tbody tr th {\n",
              "        vertical-align: top;\n",
              "    }\n",
              "\n",
              "    .dataframe thead th {\n",
              "        text-align: right;\n",
              "    }\n",
              "</style>\n",
              "<table border=\"1\" class=\"dataframe\">\n",
              "  <thead>\n",
              "    <tr style=\"text-align: right;\">\n",
              "      <th></th>\n",
              "      <th>Open</th>\n",
              "      <th>High</th>\n",
              "      <th>Low</th>\n",
              "      <th>Close</th>\n",
              "      <th>Volume</th>\n",
              "    </tr>\n",
              "  </thead>\n",
              "  <tbody>\n",
              "    <tr>\n",
              "      <th>0</th>\n",
              "      <td>132.4860</td>\n",
              "      <td>133.1340</td>\n",
              "      <td>130.1530</td>\n",
              "      <td>131.1200</td>\n",
              "      <td>1.003064e+08</td>\n",
              "    </tr>\n",
              "    <tr>\n",
              "      <th>1</th>\n",
              "      <td>133.9320</td>\n",
              "      <td>134.3800</td>\n",
              "      <td>131.8180</td>\n",
              "      <td>132.1370</td>\n",
              "      <td>9.760997e+07</td>\n",
              "    </tr>\n",
              "    <tr>\n",
              "      <th>2</th>\n",
              "      <td>136.4140</td>\n",
              "      <td>137.1420</td>\n",
              "      <td>132.7450</td>\n",
              "      <td>133.2640</td>\n",
              "      <td>1.225004e+08</td>\n",
              "    </tr>\n",
              "    <tr>\n",
              "      <th>3</th>\n",
              "      <td>132.3960</td>\n",
              "      <td>135.7260</td>\n",
              "      <td>131.9270</td>\n",
              "      <td>135.0780</td>\n",
              "      <td>1.259806e+08</td>\n",
              "    </tr>\n",
              "    <tr>\n",
              "      <th>4</th>\n",
              "      <td>129.7540</td>\n",
              "      <td>131.8780</td>\n",
              "      <td>129.5350</td>\n",
              "      <td>130.4030</td>\n",
              "      <td>5.558946e+07</td>\n",
              "    </tr>\n",
              "    <tr>\n",
              "      <th>...</th>\n",
              "      <td>...</td>\n",
              "      <td>...</td>\n",
              "      <td>...</td>\n",
              "      <td>...</td>\n",
              "      <td>...</td>\n",
              "    </tr>\n",
              "    <tr>\n",
              "      <th>248</th>\n",
              "      <td>72.7810</td>\n",
              "      <td>74.5626</td>\n",
              "      <td>72.7790</td>\n",
              "      <td>74.2575</td>\n",
              "      <td>1.351095e+08</td>\n",
              "    </tr>\n",
              "    <tr>\n",
              "      <th>249</th>\n",
              "      <td>73.4350</td>\n",
              "      <td>73.6972</td>\n",
              "      <td>72.8607</td>\n",
              "      <td>73.0831</td>\n",
              "      <td>1.138238e+08</td>\n",
              "    </tr>\n",
              "    <tr>\n",
              "      <th>250</th>\n",
              "      <td>71.9515</td>\n",
              "      <td>73.4649</td>\n",
              "      <td>71.7023</td>\n",
              "      <td>73.4250</td>\n",
              "      <td>1.210384e+08</td>\n",
              "    </tr>\n",
              "    <tr>\n",
              "      <th>251</th>\n",
              "      <td>72.7790</td>\n",
              "      <td>73.6185</td>\n",
              "      <td>72.6185</td>\n",
              "      <td>72.8488</td>\n",
              "      <td>1.495753e+08</td>\n",
              "    </tr>\n",
              "    <tr>\n",
              "      <th>252</th>\n",
              "      <td>72.5537</td>\n",
              "      <td>73.6225</td>\n",
              "      <td>72.2955</td>\n",
              "      <td>73.5616</td>\n",
              "      <td>1.384613e+08</td>\n",
              "    </tr>\n",
              "  </tbody>\n",
              "</table>\n",
              "<p>253 rows × 5 columns</p>\n",
              "</div>"
            ],
            "text/plain": [
              "         Open      High       Low     Close        Volume\n",
              "0    132.4860  133.1340  130.1530  131.1200  1.003064e+08\n",
              "1    133.9320  134.3800  131.8180  132.1370  9.760997e+07\n",
              "2    136.4140  137.1420  132.7450  133.2640  1.225004e+08\n",
              "3    132.3960  135.7260  131.9270  135.0780  1.259806e+08\n",
              "4    129.7540  131.8780  129.5350  130.4030  5.558946e+07\n",
              "..        ...       ...       ...       ...           ...\n",
              "248   72.7810   74.5626   72.7790   74.2575  1.351095e+08\n",
              "249   73.4350   73.6972   72.8607   73.0831  1.138238e+08\n",
              "250   71.9515   73.4649   71.7023   73.4250  1.210384e+08\n",
              "251   72.7790   73.6185   72.6185   72.8488  1.495753e+08\n",
              "252   72.5537   73.6225   72.2955   73.5616  1.384613e+08\n",
              "\n",
              "[253 rows x 5 columns]"
            ]
          },
          "execution_count": 7,
          "metadata": {},
          "output_type": "execute_result"
        }
      ],
      "source": [
        "#showing all the Data\n",
        "df"
      ]
    },
    {
      "cell_type": "code",
      "execution_count": null,
      "id": "b64ab1a6",
      "metadata": {
        "id": "b64ab1a6",
        "outputId": "cd29c744-036f-4218-b015-9d3f39a6a4cc"
      },
      "outputs": [
        {
          "data": {
            "text/plain": [
              "0            NaN\n",
              "1            NaN\n",
              "2            NaN\n",
              "3            NaN\n",
              "4            NaN\n",
              "         ...    \n",
              "248    71.887175\n",
              "249    71.825722\n",
              "250    71.777309\n",
              "251    71.722357\n",
              "252    71.674882\n",
              "Name: Close, Length: 253, dtype: float64"
            ]
          },
          "execution_count": 8,
          "metadata": {},
          "output_type": "execute_result"
        }
      ],
      "source": [
        "ma100 = df.Close.rolling(100).mean()\n",
        "ma100"
      ]
    },
    {
      "cell_type": "code",
      "execution_count": null,
      "id": "81339873",
      "metadata": {
        "id": "81339873",
        "outputId": "fca787d0-c511-46ca-b79f-497a01d38ac3"
      },
      "outputs": [
        {
          "data": {
            "text/plain": [
              "[<matplotlib.lines.Line2D at 0x1ac08cb8090>]"
            ]
          },
          "execution_count": 9,
          "metadata": {},
          "output_type": "execute_result"
        },
        {
          "data": {
            "image/png": "[encoded data removed]",
            "text/plain": [
              "<Figure size 1200x600 with 1 Axes>"
            ]
          },
          "metadata": {},
          "output_type": "display_data"
        }
      ],
      "source": [
        "plt.figure(figsize = (12,6))\n",
        "plt.plot(df.Close)\n",
        "plt.plot(ma100,'g')"
      ]
    },
    {
      "cell_type": "code",
      "execution_count": null,
      "id": "2391b367",
      "metadata": {
        "id": "2391b367",
        "outputId": "b79945d9-ce13-4621-9cdb-39cf71186065"
      },
      "outputs": [
        {
          "data": {
            "text/plain": [
              "0            NaN\n",
              "1            NaN\n",
              "2            NaN\n",
              "3            NaN\n",
              "4            NaN\n",
              "         ...    \n",
              "248    88.028268\n",
              "249    87.817239\n",
              "250    87.604779\n",
              "251    87.397018\n",
              "252    87.177766\n",
              "Name: Close, Length: 253, dtype: float64"
            ]
          },
          "execution_count": 10,
          "metadata": {},
          "output_type": "execute_result"
        }
      ],
      "source": [
        "ma200 = df.Close.rolling(200).mean()\n",
        "ma200"
      ]
    },
    {
      "cell_type": "code",
      "execution_count": null,
      "id": "1a2c3515",
      "metadata": {
        "id": "1a2c3515",
        "outputId": "9e49e265-2a0b-4ff3-a9b0-14e1cdae0d32"
      },
      "outputs": [
        {
          "data": {
            "text/plain": [
              "[<matplotlib.lines.Line2D at 0x1ac0847c490>]"
            ]
          },
          "execution_count": 11,
          "metadata": {},
          "output_type": "execute_result"
        },
        {
          "data": {
            "image/png": "[encoded data removed]",
            "text/plain": [
              "<Figure size 1200x600 with 1 Axes>"
            ]
          },
          "metadata": {},
          "output_type": "display_data"
        }
      ],
      "source": [
        "plt.figure(figsize = (12,6))\n",
        "plt.plot(df.Close)\n",
        "plt.plot(ma100,'g')\n",
        "plt.plot(ma200,'r')#moving average"
      ]
    },
    {
      "cell_type": "code",
      "execution_count": null,
      "id": "a899bd06",
      "metadata": {
        "id": "a899bd06",
        "outputId": "f4a6de4f-b1d2-4846-a7c8-bf5ad41fdd19"
      },
      "outputs": [
        {
          "data": {
            "text/plain": [
              "(253, 5)"
            ]
          },
          "execution_count": 12,
          "metadata": {},
          "output_type": "execute_result"
        }
      ],
      "source": [
        "df.shape"
      ]
    },
    {
      "cell_type": "code",
      "execution_count": null,
      "id": "06fdf0c0",
      "metadata": {
        "id": "06fdf0c0",
        "outputId": "61c199eb-48fb-44b0-f8bd-3f8ab0d58f76"
      },
      "outputs": [
        {
          "name": "stdout",
          "output_type": "stream",
          "text": [
            "(177, 1)\n",
            "(76, 1)\n"
          ]
        }
      ],
      "source": [
        "#Spliting the data into training and testing\n",
        "data_training = pd.DataFrame(df['Close'][0:int(len(df)*0.70)])\n",
        "data_testing  = pd.DataFrame(df['Close'][int(len(df)*0.70): int(len(df))])\n",
        "\n",
        "print(data_training.shape)\n",
        "print(data_testing.shape)"
      ]
    },
    {
      "cell_type": "code",
      "execution_count": null,
      "id": "e2f81a62",
      "metadata": {
        "id": "e2f81a62",
        "outputId": "866f4786-252a-4472-bbaf-b781e088eb85"
      },
      "outputs": [
        {
          "data": {
            "text/html": [
              "<div>\n",
              "<style scoped>\n",
              "    .dataframe tbody tr th:only-of-type {\n",
              "        vertical-align: middle;\n",
              "    }\n",
              "\n",
              "    .dataframe tbody tr th {\n",
              "        vertical-align: top;\n",
              "    }\n",
              "\n",
              "    .dataframe thead th {\n",
              "        text-align: right;\n",
              "    }\n",
              "</style>\n",
              "<table border=\"1\" class=\"dataframe\">\n",
              "  <thead>\n",
              "    <tr style=\"text-align: right;\">\n",
              "      <th></th>\n",
              "      <th>Close</th>\n",
              "    </tr>\n",
              "  </thead>\n",
              "  <tbody>\n",
              "    <tr>\n",
              "      <th>0</th>\n",
              "      <td>131.120</td>\n",
              "    </tr>\n",
              "    <tr>\n",
              "      <th>1</th>\n",
              "      <td>132.137</td>\n",
              "    </tr>\n",
              "    <tr>\n",
              "      <th>2</th>\n",
              "      <td>133.264</td>\n",
              "    </tr>\n",
              "    <tr>\n",
              "      <th>3</th>\n",
              "      <td>135.078</td>\n",
              "    </tr>\n",
              "    <tr>\n",
              "      <th>4</th>\n",
              "      <td>130.403</td>\n",
              "    </tr>\n",
              "  </tbody>\n",
              "</table>\n",
              "</div>"
            ],
            "text/plain": [
              "     Close\n",
              "0  131.120\n",
              "1  132.137\n",
              "2  133.264\n",
              "3  135.078\n",
              "4  130.403"
            ]
          },
          "execution_count": 14,
          "metadata": {},
          "output_type": "execute_result"
        }
      ],
      "source": [
        "data_training.head()"
      ]
    },
    {
      "cell_type": "code",
      "execution_count": null,
      "id": "9c4c3953",
      "metadata": {
        "id": "9c4c3953",
        "outputId": "0f7b6efc-9bc3-4034-d591-900bf98f210f"
      },
      "outputs": [
        {
          "data": {
            "text/html": [
              "<div>\n",
              "<style scoped>\n",
              "    .dataframe tbody tr th:only-of-type {\n",
              "        vertical-align: middle;\n",
              "    }\n",
              "\n",
              "    .dataframe tbody tr th {\n",
              "        vertical-align: top;\n",
              "    }\n",
              "\n",
              "    .dataframe thead th {\n",
              "        text-align: right;\n",
              "    }\n",
              "</style>\n",
              "<table border=\"1\" class=\"dataframe\">\n",
              "  <thead>\n",
              "    <tr style=\"text-align: right;\">\n",
              "      <th></th>\n",
              "      <th>Close</th>\n",
              "    </tr>\n",
              "  </thead>\n",
              "  <tbody>\n",
              "    <tr>\n",
              "      <th>177</th>\n",
              "      <td>65.8870</td>\n",
              "    </tr>\n",
              "    <tr>\n",
              "      <th>178</th>\n",
              "      <td>67.9846</td>\n",
              "    </tr>\n",
              "    <tr>\n",
              "      <th>179</th>\n",
              "      <td>69.4272</td>\n",
              "    </tr>\n",
              "    <tr>\n",
              "      <th>180</th>\n",
              "      <td>70.3843</td>\n",
              "    </tr>\n",
              "    <tr>\n",
              "      <th>181</th>\n",
              "      <td>69.8280</td>\n",
              "    </tr>\n",
              "  </tbody>\n",
              "</table>\n",
              "</div>"
            ],
            "text/plain": [
              "       Close\n",
              "177  65.8870\n",
              "178  67.9846\n",
              "179  69.4272\n",
              "180  70.3843\n",
              "181  69.8280"
            ]
          },
          "execution_count": 15,
          "metadata": {},
          "output_type": "execute_result"
        }
      ],
      "source": [
        "data_testing.head()"
      ]
    },
    {
      "cell_type": "code",
      "execution_count": null,
      "id": "a6616617",
      "metadata": {
        "id": "a6616617"
      },
      "outputs": [],
      "source": [
        "from sklearn.preprocessing import MinMaxScaler\n",
        "scaler = MinMaxScaler(feature_range=(0,1))"
      ]
    },
    {
      "cell_type": "code",
      "execution_count": null,
      "id": "b56cfeb7",
      "metadata": {
        "collapsed": true,
        "id": "b56cfeb7",
        "outputId": "c235aa28-4f99-45a9-a3a7-8307d916bfbe"
      },
      "outputs": [
        {
          "data": {
            "text/plain": [
              "array([[0.94141235],\n",
              "       [0.95646633],\n",
              "       [0.97314856],\n",
              "       [1.        ],\n",
              "       [0.93079907],\n",
              "       [0.91587832],\n",
              "       [0.92946686],\n",
              "       [0.87604523],\n",
              "       [0.85330884],\n",
              "       [0.88297272],\n",
              "       [0.86984305],\n",
              "       [0.87086441],\n",
              "       [0.78173954],\n",
              "       [0.79103541],\n",
              "       [0.80314372],\n",
              "       [0.78173954],\n",
              "       [0.81966313],\n",
              "       [0.81066331],\n",
              "       [0.78868184],\n",
              "       [0.79870302],\n",
              "       [0.80077535],\n",
              "       [0.79546131],\n",
              "       [0.74189165],\n",
              "       [0.70589237],\n",
              "       [0.69761786],\n",
              "       [0.68493226],\n",
              "       [0.66573363],\n",
              "       [0.71681649],\n",
              "       [0.7358523 ],\n",
              "       [0.72685248],\n",
              "       [0.74690964],\n",
              "       [0.76020214],\n",
              "       [0.74500014],\n",
              "       [0.74426002],\n",
              "       [0.74838988],\n",
              "       [0.69674452],\n",
              "       [0.70189574],\n",
              "       [0.73657761],\n",
              "       [0.73850191],\n",
              "       [0.6788781 ],\n",
              "       [0.61320013],\n",
              "       [0.58871707],\n",
              "       [0.59004928],\n",
              "       [0.68434016],\n",
              "       [0.62412426],\n",
              "       [0.70307992],\n",
              "       [0.68035833],\n",
              "       [0.68021031],\n",
              "       [0.69054234],\n",
              "       [0.70707655],\n",
              "       [0.71637242],\n",
              "       [0.69393208],\n",
              "       [0.73850191],\n",
              "       [0.763133  ],\n",
              "       [0.7700901 ],\n",
              "       [0.76875789],\n",
              "       [0.81685068],\n",
              "       [0.70854198],\n",
              "       [0.67917415],\n",
              "       [0.68080241],\n",
              "       [0.65306283],\n",
              "       [0.70159969],\n",
              "       [0.6509905 ],\n",
              "       [0.70589237],\n",
              "       [0.69143048],\n",
              "       [0.66632572],\n",
              "       [0.67902612],\n",
              "       [0.64006637],\n",
              "       [0.58059058],\n",
              "       [0.56451525],\n",
              "       [0.63313888],\n",
              "       [0.6079009 ],\n",
              "       [0.56066664],\n",
              "       [0.6117347 ],\n",
              "       [0.63786083],\n",
              "       [0.68743385],\n",
              "       [0.68493226],\n",
              "       [0.63593652],\n",
              "       [0.65776997],\n",
              "       [0.713708  ],\n",
              "       [0.64803003],\n",
              "       [0.76668556],\n",
              "       [0.76550138],\n",
              "       [0.91898681],\n",
              "       [0.95970804],\n",
              "       [0.884749  ],\n",
              "       [0.82291964],\n",
              "       [0.82570248],\n",
              "       [0.8479948 ],\n",
              "       [0.82306767],\n",
              "       [0.83825486],\n",
              "       [0.81640661],\n",
              "       [0.72757779],\n",
              "       [0.68995025],\n",
              "       [0.6877299 ],\n",
              "       [0.67400813],\n",
              "       [0.67828601],\n",
              "       [0.67976624],\n",
              "       [0.65084248],\n",
              "       [0.59771689],\n",
              "       [0.64671262],\n",
              "       [0.62280685],\n",
              "       [0.66073044],\n",
              "       [0.60464438],\n",
              "       [0.59890107],\n",
              "       [0.588273  ],\n",
              "       [0.54944647],\n",
              "       [0.40254955],\n",
              "       [0.38580071],\n",
              "       [0.35970863],\n",
              "       [0.38241986],\n",
              "       [0.35041128],\n",
              "       [0.35376105],\n",
              "       [0.4182948 ],\n",
              "       [0.41432629],\n",
              "       [0.43411406],\n",
              "       [0.40454195],\n",
              "       [0.40737512],\n",
              "       [0.42492181],\n",
              "       [0.41516707],\n",
              "       [0.39213019],\n",
              "       [0.39857957],\n",
              "       [0.39514098],\n",
              "       [0.39015408],\n",
              "       [0.35855849],\n",
              "       [0.36276383],\n",
              "       [0.32725747],\n",
              "       [0.32725747],\n",
              "       [0.32976646],\n",
              "       [0.31880237],\n",
              "       [0.28911036],\n",
              "       [0.32991301],\n",
              "       [0.31250102],\n",
              "       [0.33611223],\n",
              "       [0.30819206],\n",
              "       [0.27483943],\n",
              "       [0.28217399],\n",
              "       [0.28165739],\n",
              "       [0.28344255],\n",
              "       [0.25032676],\n",
              "       [0.23505519],\n",
              "       [0.2245026 ],\n",
              "       [0.28620319],\n",
              "       [0.25395777],\n",
              "       [0.21560344],\n",
              "       [0.20846131],\n",
              "       [0.17499175],\n",
              "       [0.1851876 ],\n",
              "       [0.17874118],\n",
              "       [0.1732954 ],\n",
              "       [0.15905407],\n",
              "       [0.16020421],\n",
              "       [0.15968761],\n",
              "       [0.15462669],\n",
              "       [0.16252226],\n",
              "       [0.15506928],\n",
              "       [0.16374641],\n",
              "       [0.14156511],\n",
              "       [0.14819212],\n",
              "       [0.12179067],\n",
              "       [0.12841767],\n",
              "       [0.12157011],\n",
              "       [0.13523415],\n",
              "       [0.14836974],\n",
              "       [0.13057289],\n",
              "       [0.10428987],\n",
              "       [0.09304453],\n",
              "       [0.08190281],\n",
              "       [0.06584672],\n",
              "       [0.05098665],\n",
              "       [0.06819289],\n",
              "       [0.0461152 ],\n",
              "       [0.0128958 ],\n",
              "       [0.02958839],\n",
              "       [0.02884975],\n",
              "       [0.        ],\n",
              "       [0.00385157]])"
            ]
          },
          "execution_count": 17,
          "metadata": {},
          "output_type": "execute_result"
        }
      ],
      "source": [
        "data_training_array = scaler.fit_transform(data_training)\n",
        "data_training_array"
      ]
    },
    {
      "cell_type": "code",
      "execution_count": null,
      "id": "8685fe70",
      "metadata": {
        "id": "8685fe70",
        "outputId": "2edda477-9835-4b5d-bfd0-e0746397d609"
      },
      "outputs": [
        {
          "data": {
            "text/plain": [
              "(177, 1)"
            ]
          },
          "execution_count": 18,
          "metadata": {},
          "output_type": "execute_result"
        }
      ],
      "source": [
        "data_training_array.shape"
      ]
    },
    {
      "cell_type": "code",
      "execution_count": null,
      "id": "8e75a03b",
      "metadata": {
        "id": "8e75a03b",
        "outputId": "ef1ea4bd-7faa-40ff-fa84-63dd171ad7d5"
      },
      "outputs": [
        {
          "name": "stdout",
          "output_type": "stream",
          "text": [
            "Requirement already satisfied: numpy in c:\\users\\suraj\\anaconda3\\lib\\site-packages (1.24.3)\n"
          ]
        }
      ],
      "source": [
        "!pip install numpy"
      ]
    },
    {
      "cell_type": "code",
      "execution_count": null,
      "id": "4d98c6e3",
      "metadata": {
        "id": "4d98c6e3"
      },
      "outputs": [],
      "source": [
        "x_train = []#first 100 days\n",
        "y_train = []#Next 101th day prediction\n",
        "\n",
        "for i in range(100, data_training_array.shape[0]):\n",
        "    x_train.append(data_training_array[i-100: i])\n",
        "    y_train.append(data_training_array[i, 0])\n",
        "\n",
        "\n",
        "x_train, y_train = np.array(x_train), np.array(y_train)"
      ]
    },
    {
      "cell_type": "code",
      "execution_count": null,
      "id": "d2ca76fd",
      "metadata": {
        "id": "d2ca76fd"
      },
      "outputs": [],
      "source": [
        "#ML Model"
      ]
    },
    {
      "cell_type": "code",
      "execution_count": null,
      "id": "8a343cb1",
      "metadata": {
        "id": "8a343cb1"
      },
      "outputs": [],
      "source": [
        "from keras.layers import Dense, Dropout,LSTM\n",
        "from keras.models import Sequential"
      ]
    },
    {
      "cell_type": "code",
      "execution_count": null,
      "id": "16f20a2a",
      "metadata": {
        "id": "16f20a2a",
        "outputId": "b309cb6e-6a40-4a44-be2e-31857e16ea34"
      },
      "outputs": [
        {
          "name": "stdout",
          "output_type": "stream",
          "text": [
            "Requirement already satisfied: tensorflow in c:\\users\\suraj\\anaconda3\\lib\\site-packages (2.14.0)\n",
            "Requirement already satisfied: tensorflow-intel==2.14.0 in c:\\users\\suraj\\anaconda3\\lib\\site-packages (from tensorflow) (2.14.0)\n",
            "Requirement already satisfied: absl-py>=1.0.0 in c:\\users\\suraj\\anaconda3\\lib\\site-packages (from tensorflow-intel==2.14.0->tensorflow) (2.0.0)\n",
            "Requirement already satisfied: astunparse>=1.6.0 in c:\\users\\suraj\\anaconda3\\lib\\site-packages (from tensorflow-intel==2.14.0->tensorflow) (1.6.3)\n",
            "Requirement already satisfied: flatbuffers>=23.5.26 in c:\\users\\suraj\\anaconda3\\lib\\site-packages (from tensorflow-intel==2.14.0->tensorflow) (23.5.26)\n",
            "Requirement already satisfied: gast!=0.5.0,!=0.5.1,!=0.5.2,>=0.2.1 in c:\\users\\suraj\\anaconda3\\lib\\site-packages (from tensorflow-intel==2.14.0->tensorflow) (0.5.4)\n",
            "Requirement already satisfied: google-pasta>=0.1.1 in c:\\users\\suraj\\anaconda3\\lib\\site-packages (from tensorflow-intel==2.14.0->tensorflow) (0.2.0)\n",
            "Requirement already satisfied: h5py>=2.9.0 in c:\\users\\suraj\\anaconda3\\lib\\site-packages (from tensorflow-intel==2.14.0->tensorflow) (3.7.0)\n",
            "Requirement already satisfied: libclang>=13.0.0 in c:\\users\\suraj\\anaconda3\\lib\\site-packages (from tensorflow-intel==2.14.0->tensorflow) (16.0.6)\n",
            "Requirement already satisfied: ml-dtypes==0.2.0 in c:\\users\\suraj\\anaconda3\\lib\\site-packages (from tensorflow-intel==2.14.0->tensorflow) (0.2.0)\n",
            "Requirement already satisfied: numpy>=1.23.5 in c:\\users\\suraj\\anaconda3\\lib\\site-packages (from tensorflow-intel==2.14.0->tensorflow) (1.24.3)\n",
            "Requirement already satisfied: opt-einsum>=2.3.2 in c:\\users\\suraj\\anaconda3\\lib\\site-packages (from tensorflow-intel==2.14.0->tensorflow) (3.3.0)\n",
            "Requirement already satisfied: packaging in c:\\users\\suraj\\anaconda3\\lib\\site-packages (from tensorflow-intel==2.14.0->tensorflow) (23.0)\n",
            "Requirement already satisfied: protobuf!=4.21.0,!=4.21.1,!=4.21.2,!=4.21.3,!=4.21.4,!=4.21.5,<5.0.0dev,>=3.20.3 in c:\\users\\suraj\\anaconda3\\lib\\site-packages (from tensorflow-intel==2.14.0->tensorflow) (4.24.4)\n",
            "Requirement already satisfied: setuptools in c:\\users\\suraj\\anaconda3\\lib\\site-packages (from tensorflow-intel==2.14.0->tensorflow) (68.0.0)\n",
            "Requirement already satisfied: six>=1.12.0 in c:\\users\\suraj\\anaconda3\\lib\\site-packages (from tensorflow-intel==2.14.0->tensorflow) (1.16.0)\n",
            "Requirement already satisfied: termcolor>=1.1.0 in c:\\users\\suraj\\anaconda3\\lib\\site-packages (from tensorflow-intel==2.14.0->tensorflow) (2.3.0)\n",
            "Requirement already satisfied: typing-extensions>=3.6.6 in c:\\users\\suraj\\anaconda3\\lib\\site-packages (from tensorflow-intel==2.14.0->tensorflow) (4.7.1)\n",
            "Requirement already satisfied: wrapt<1.15,>=1.11.0 in c:\\users\\suraj\\anaconda3\\lib\\site-packages (from tensorflow-intel==2.14.0->tensorflow) (1.14.1)\n",
            "Requirement already satisfied: tensorflow-io-gcs-filesystem>=0.23.1 in c:\\users\\suraj\\anaconda3\\lib\\site-packages (from tensorflow-intel==2.14.0->tensorflow) (0.31.0)\n",
            "Requirement already satisfied: grpcio<2.0,>=1.24.3 in c:\\users\\suraj\\anaconda3\\lib\\site-packages (from tensorflow-intel==2.14.0->tensorflow) (1.59.0)\n",
            "Requirement already satisfied: tensorboard<2.15,>=2.14 in c:\\users\\suraj\\anaconda3\\lib\\site-packages (from tensorflow-intel==2.14.0->tensorflow) (2.14.1)\n",
            "Requirement already satisfied: tensorflow-estimator<2.15,>=2.14.0 in c:\\users\\suraj\\anaconda3\\lib\\site-packages (from tensorflow-intel==2.14.0->tensorflow) (2.14.0)\n",
            "Requirement already satisfied: keras<2.15,>=2.14.0 in c:\\users\\suraj\\anaconda3\\lib\\site-packages (from tensorflow-intel==2.14.0->tensorflow) (2.14.0)\n",
            "Requirement already satisfied: wheel<1.0,>=0.23.0 in c:\\users\\suraj\\anaconda3\\lib\\site-packages (from astunparse>=1.6.0->tensorflow-intel==2.14.0->tensorflow) (0.38.4)\n",
            "Requirement already satisfied: google-auth<3,>=1.6.3 in c:\\users\\suraj\\anaconda3\\lib\\site-packages (from tensorboard<2.15,>=2.14->tensorflow-intel==2.14.0->tensorflow) (2.23.2)\n",
            "Requirement already satisfied: google-auth-oauthlib<1.1,>=0.5 in c:\\users\\suraj\\anaconda3\\lib\\site-packages (from tensorboard<2.15,>=2.14->tensorflow-intel==2.14.0->tensorflow) (1.0.0)\n",
            "Requirement already satisfied: markdown>=2.6.8 in c:\\users\\suraj\\anaconda3\\lib\\site-packages (from tensorboard<2.15,>=2.14->tensorflow-intel==2.14.0->tensorflow) (3.4.1)\n",
            "Requirement already satisfied: requests<3,>=2.21.0 in c:\\users\\suraj\\anaconda3\\lib\\site-packages (from tensorboard<2.15,>=2.14->tensorflow-intel==2.14.0->tensorflow) (2.31.0)\n",
            "Requirement already satisfied: tensorboard-data-server<0.8.0,>=0.7.0 in c:\\users\\suraj\\anaconda3\\lib\\site-packages (from tensorboard<2.15,>=2.14->tensorflow-intel==2.14.0->tensorflow) (0.7.1)\n",
            "Requirement already satisfied: werkzeug>=1.0.1 in c:\\users\\suraj\\anaconda3\\lib\\site-packages (from tensorboard<2.15,>=2.14->tensorflow-intel==2.14.0->tensorflow) (2.2.3)\n",
            "Requirement already satisfied: cachetools<6.0,>=2.0.0 in c:\\users\\suraj\\anaconda3\\lib\\site-packages (from google-auth<3,>=1.6.3->tensorboard<2.15,>=2.14->tensorflow-intel==2.14.0->tensorflow) (5.3.1)\n",
            "Requirement already satisfied: pyasn1-modules>=0.2.1 in c:\\users\\suraj\\anaconda3\\lib\\site-packages (from google-auth<3,>=1.6.3->tensorboard<2.15,>=2.14->tensorflow-intel==2.14.0->tensorflow) (0.2.8)\n",
            "Requirement already satisfied: rsa<5,>=3.1.4 in c:\\users\\suraj\\anaconda3\\lib\\site-packages (from google-auth<3,>=1.6.3->tensorboard<2.15,>=2.14->tensorflow-intel==2.14.0->tensorflow) (4.9)\n",
            "Requirement already satisfied: requests-oauthlib>=0.7.0 in c:\\users\\suraj\\anaconda3\\lib\\site-packages (from google-auth-oauthlib<1.1,>=0.5->tensorboard<2.15,>=2.14->tensorflow-intel==2.14.0->tensorflow) (1.3.1)\n",
            "Requirement already satisfied: charset-normalizer<4,>=2 in c:\\users\\suraj\\anaconda3\\lib\\site-packages (from requests<3,>=2.21.0->tensorboard<2.15,>=2.14->tensorflow-intel==2.14.0->tensorflow) (2.0.4)\n",
            "Requirement already satisfied: idna<4,>=2.5 in c:\\users\\suraj\\anaconda3\\lib\\site-packages (from requests<3,>=2.21.0->tensorboard<2.15,>=2.14->tensorflow-intel==2.14.0->tensorflow) (3.4)\n",
            "Requirement already satisfied: urllib3<3,>=1.21.1 in c:\\users\\suraj\\anaconda3\\lib\\site-packages (from requests<3,>=2.21.0->tensorboard<2.15,>=2.14->tensorflow-intel==2.14.0->tensorflow) (1.26.16)\n",
            "Requirement already satisfied: certifi>=2017.4.17 in c:\\users\\suraj\\anaconda3\\lib\\site-packages (from requests<3,>=2.21.0->tensorboard<2.15,>=2.14->tensorflow-intel==2.14.0->tensorflow) (2023.7.22)\n",
            "Requirement already satisfied: MarkupSafe>=2.1.1 in c:\\users\\suraj\\anaconda3\\lib\\site-packages (from werkzeug>=1.0.1->tensorboard<2.15,>=2.14->tensorflow-intel==2.14.0->tensorflow) (2.1.1)\n",
            "Requirement already satisfied: pyasn1<0.5.0,>=0.4.6 in c:\\users\\suraj\\anaconda3\\lib\\site-packages (from pyasn1-modules>=0.2.1->google-auth<3,>=1.6.3->tensorboard<2.15,>=2.14->tensorflow-intel==2.14.0->tensorflow) (0.4.8)\n",
            "Requirement already satisfied: oauthlib>=3.0.0 in c:\\users\\suraj\\anaconda3\\lib\\site-packages (from requests-oauthlib>=0.7.0->google-auth-oauthlib<1.1,>=0.5->tensorboard<2.15,>=2.14->tensorflow-intel==2.14.0->tensorflow) (3.2.2)\n"
          ]
        }
      ],
      "source": [
        "!pip install tensorflow"
      ]
    },
    {
      "cell_type": "code",
      "execution_count": null,
      "id": "7a386b44",
      "metadata": {
        "id": "7a386b44"
      },
      "outputs": [],
      "source": [
        "model = Sequential()\n",
        "model.add(LSTM(units = 50 , activation = 'relu', return_sequences = True,\n",
        "               input_shape = (x_train.shape[1], 1)))\n",
        "model.add(Dropout(0.2))\n",
        "\n",
        "\n",
        "model.add(LSTM(units = 60, activation = 'relu', return_sequences = True))\n",
        "model.add(Dropout(0.3))\n",
        "\n",
        "\n",
        "model.add(LSTM(units = 80, activation = 'relu', return_sequences = True))\n",
        "model.add(Dropout(0.4))\n",
        "\n",
        "\n",
        "model.add(LSTM(units = 120,  activation = 'relu'))\n",
        "model.add(Dropout(0.5))\n",
        "\n",
        "model.add(Dense(units = 1))#conect all models"
      ]
    },
    {
      "cell_type": "code",
      "execution_count": null,
      "id": "91f117eb",
      "metadata": {
        "id": "91f117eb",
        "outputId": "000d9b26-d455-4077-f2c5-4a7e4079a090"
      },
      "outputs": [
        {
          "name": "stdout",
          "output_type": "stream",
          "text": [
            "Model: \"sequential\"\n",
            "_________________________________________________________________\n",
            " Layer (type)                Output Shape              Param #   \n",
            "=================================================================\n",
            " lstm (LSTM)                 (None, 100, 50)           10400     \n",
            "                                                                 \n",
            " dropout (Dropout)           (None, 100, 50)           0         \n",
            "                                                                 \n",
            " lstm_1 (LSTM)               (None, 100, 60)           26640     \n",
            "                                                                 \n",
            " dropout_1 (Dropout)         (None, 100, 60)           0         \n",
            "                                                                 \n",
            " lstm_2 (LSTM)               (None, 100, 80)           45120     \n",
            "                                                                 \n",
            " dropout_2 (Dropout)         (None, 100, 80)           0         \n",
            "                                                                 \n",
            " lstm_3 (LSTM)               (None, 120)               96480     \n",
            "                                                                 \n",
            " dropout_3 (Dropout)         (None, 120)               0         \n",
            "                                                                 \n",
            " dense (Dense)               (None, 1)                 121       \n",
            "                                                                 \n",
            "=================================================================\n",
            "Total params: 178761 (698.29 KB)\n",
            "Trainable params: 178761 (698.29 KB)\n",
            "Non-trainable params: 0 (0.00 Byte)\n",
            "_________________________________________________________________\n"
          ]
        }
      ],
      "source": [
        "model.summary()"
      ]
    },
    {
      "cell_type": "code",
      "execution_count": null,
      "id": "6d6ad3d1",
      "metadata": {
        "id": "6d6ad3d1",
        "outputId": "a9cd5b7f-44d0-4597-aabf-a133717c270c"
      },
      "outputs": [
        {
          "name": "stdout",
          "output_type": "stream",
          "text": [
            "Epoch 1/50\n",
            "3/3 [==============================] - 10s 362ms/step - loss: 0.0960\n",
            "Epoch 2/50\n",
            "3/3 [==============================] - 1s 312ms/step - loss: 0.0717\n",
            "Epoch 3/50\n",
            "3/3 [==============================] - 1s 305ms/step - loss: 0.0378\n",
            "Epoch 4/50\n",
            "3/3 [==============================] - 1s 305ms/step - loss: 0.0306\n",
            "Epoch 5/50\n",
            "3/3 [==============================] - 1s 308ms/step - loss: 0.0178\n",
            "Epoch 6/50\n",
            "3/3 [==============================] - 1s 313ms/step - loss: 0.0209\n",
            "Epoch 7/50\n",
            "3/3 [==============================] - 1s 303ms/step - loss: 0.0256\n",
            "Epoch 8/50\n",
            "3/3 [==============================] - 1s 303ms/step - loss: 0.0204\n",
            "Epoch 9/50\n",
            "3/3 [==============================] - 1s 295ms/step - loss: 0.0179\n",
            "Epoch 10/50\n",
            "3/3 [==============================] - 1s 310ms/step - loss: 0.0153\n",
            "Epoch 11/50\n",
            "3/3 [==============================] - 1s 173ms/step - loss: 0.0130\n",
            "Epoch 12/50\n",
            "3/3 [==============================] - 1s 178ms/step - loss: 0.0119\n",
            "Epoch 13/50\n",
            "3/3 [==============================] - 1s 186ms/step - loss: 0.0101\n",
            "Epoch 14/50\n",
            "3/3 [==============================] - 1s 168ms/step - loss: 0.0125\n",
            "Epoch 15/50\n",
            "3/3 [==============================] - 1s 179ms/step - loss: 0.0078\n",
            "Epoch 16/50\n",
            "3/3 [==============================] - 1s 186ms/step - loss: 0.0081\n",
            "Epoch 17/50\n",
            "3/3 [==============================] - 1s 208ms/step - loss: 0.0112\n",
            "Epoch 18/50\n",
            "3/3 [==============================] - 1s 204ms/step - loss: 0.0103\n",
            "Epoch 19/50\n",
            "3/3 [==============================] - 1s 190ms/step - loss: 0.0094\n",
            "Epoch 20/50\n",
            "3/3 [==============================] - 1s 219ms/step - loss: 0.0096\n",
            "Epoch 21/50\n",
            "3/3 [==============================] - 1s 176ms/step - loss: 0.0088\n",
            "Epoch 22/50\n",
            "3/3 [==============================] - 1s 176ms/step - loss: 0.0070\n",
            "Epoch 23/50\n",
            "3/3 [==============================] - 1s 190ms/step - loss: 0.0065\n",
            "Epoch 24/50\n",
            "3/3 [==============================] - 1s 296ms/step - loss: 0.0066\n",
            "Epoch 25/50\n",
            "3/3 [==============================] - 1s 277ms/step - loss: 0.0108\n",
            "Epoch 26/50\n",
            "3/3 [==============================] - 1s 316ms/step - loss: 0.0049\n",
            "Epoch 27/50\n",
            "3/3 [==============================] - 1s 299ms/step - loss: 0.0057\n",
            "Epoch 28/50\n",
            "3/3 [==============================] - 1s 295ms/step - loss: 0.0082\n",
            "Epoch 29/50\n",
            "3/3 [==============================] - 1s 291ms/step - loss: 0.0066\n",
            "Epoch 30/50\n",
            "3/3 [==============================] - 1s 179ms/step - loss: 0.0083\n",
            "Epoch 31/50\n",
            "3/3 [==============================] - 1s 193ms/step - loss: 0.0072\n",
            "Epoch 32/50\n",
            "3/3 [==============================] - 1s 183ms/step - loss: 0.0042\n",
            "Epoch 33/50\n",
            "3/3 [==============================] - 1s 172ms/step - loss: 0.0070\n",
            "Epoch 34/50\n",
            "3/3 [==============================] - 1s 227ms/step - loss: 0.0092\n",
            "Epoch 35/50\n",
            "3/3 [==============================] - 1s 240ms/step - loss: 0.0059\n",
            "Epoch 36/50\n",
            "3/3 [==============================] - 1s 201ms/step - loss: 0.0048\n",
            "Epoch 37/50\n",
            "3/3 [==============================] - 1s 198ms/step - loss: 0.0068\n",
            "Epoch 38/50\n",
            "3/3 [==============================] - 1s 197ms/step - loss: 0.0056\n",
            "Epoch 39/50\n",
            "3/3 [==============================] - 1s 199ms/step - loss: 0.0056\n",
            "Epoch 40/50\n",
            "3/3 [==============================] - 1s 213ms/step - loss: 0.0061\n",
            "Epoch 41/50\n",
            "3/3 [==============================] - 1s 192ms/step - loss: 0.0062\n",
            "Epoch 42/50\n",
            "3/3 [==============================] - 1s 191ms/step - loss: 0.0055\n",
            "Epoch 43/50\n",
            "3/3 [==============================] - 1s 181ms/step - loss: 0.0080\n",
            "Epoch 44/50\n",
            "3/3 [==============================] - 1s 180ms/step - loss: 0.0052\n",
            "Epoch 45/50\n",
            "3/3 [==============================] - 1s 173ms/step - loss: 0.0044\n",
            "Epoch 46/50\n",
            "3/3 [==============================] - 1s 178ms/step - loss: 0.0051\n",
            "Epoch 47/50\n",
            "3/3 [==============================] - 1s 289ms/step - loss: 0.0068\n",
            "Epoch 48/50\n",
            "3/3 [==============================] - 1s 285ms/step - loss: 0.0061\n",
            "Epoch 49/50\n",
            "3/3 [==============================] - 1s 289ms/step - loss: 0.0048\n",
            "Epoch 50/50\n",
            "3/3 [==============================] - 1s 304ms/step - loss: 0.0073\n"
          ]
        },
        {
          "data": {
            "text/plain": [
              "<keras.src.callbacks.History at 0x1ac14aace90>"
            ]
          },
          "execution_count": 25,
          "metadata": {},
          "output_type": "execute_result"
        }
      ],
      "source": [
        "model.compile(optimizer='adam',loss = 'mean_squared_error')\n",
        "model.fit(x_train, y_train, epochs = 50)"
      ]
    },
    {
      "cell_type": "code",
      "execution_count": null,
      "id": "22ab9bfe",
      "metadata": {
        "id": "22ab9bfe",
        "outputId": "86431e87-3247-4eea-8b35-f8956dc10416"
      },
      "outputs": [
        {
          "name": "stderr",
          "output_type": "stream",
          "text": [
            "C:\\Users\\Suraj\\anaconda3\\Lib\\site-packages\\keras\\src\\engine\\training.py:3079: UserWarning: You are saving your model as an HDF5 file via `model.save()`. This file format is considered legacy. We recommend using instead the native Keras format, e.g. `model.save('my_model.keras')`.\n",
            "  saving_api.save_model(\n"
          ]
        }
      ],
      "source": [
        "model.save('Keras_model.h5')"
      ]
    },
    {
      "cell_type": "code",
      "execution_count": null,
      "id": "128e918d",
      "metadata": {
        "id": "128e918d",
        "outputId": "7a068674-c2f2-420e-c23c-49f38b81df78"
      },
      "outputs": [
        {
          "data": {
            "text/html": [
              "<div>\n",
              "<style scoped>\n",
              "    .dataframe tbody tr th:only-of-type {\n",
              "        vertical-align: middle;\n",
              "    }\n",
              "\n",
              "    .dataframe tbody tr th {\n",
              "        vertical-align: top;\n",
              "    }\n",
              "\n",
              "    .dataframe thead th {\n",
              "        text-align: right;\n",
              "    }\n",
              "</style>\n",
              "<table border=\"1\" class=\"dataframe\">\n",
              "  <thead>\n",
              "    <tr style=\"text-align: right;\">\n",
              "      <th></th>\n",
              "      <th>Close</th>\n",
              "    </tr>\n",
              "  </thead>\n",
              "  <tbody>\n",
              "    <tr>\n",
              "      <th>177</th>\n",
              "      <td>65.8870</td>\n",
              "    </tr>\n",
              "    <tr>\n",
              "      <th>178</th>\n",
              "      <td>67.9846</td>\n",
              "    </tr>\n",
              "    <tr>\n",
              "      <th>179</th>\n",
              "      <td>69.4272</td>\n",
              "    </tr>\n",
              "    <tr>\n",
              "      <th>180</th>\n",
              "      <td>70.3843</td>\n",
              "    </tr>\n",
              "    <tr>\n",
              "      <th>181</th>\n",
              "      <td>69.8280</td>\n",
              "    </tr>\n",
              "  </tbody>\n",
              "</table>\n",
              "</div>"
            ],
            "text/plain": [
              "       Close\n",
              "177  65.8870\n",
              "178  67.9846\n",
              "179  69.4272\n",
              "180  70.3843\n",
              "181  69.8280"
            ]
          },
          "execution_count": 27,
          "metadata": {},
          "output_type": "execute_result"
        }
      ],
      "source": [
        "data_testing.head()"
      ]
    },
    {
      "cell_type": "code",
      "execution_count": null,
      "id": "f5bd314e",
      "metadata": {
        "id": "f5bd314e",
        "outputId": "fa56ea7e-6df0-4c23-ca87-9091b703be30"
      },
      "outputs": [
        {
          "data": {
            "text/html": [
              "<div>\n",
              "<style scoped>\n",
              "    .dataframe tbody tr th:only-of-type {\n",
              "        vertical-align: middle;\n",
              "    }\n",
              "\n",
              "    .dataframe tbody tr th {\n",
              "        vertical-align: top;\n",
              "    }\n",
              "\n",
              "    .dataframe thead th {\n",
              "        text-align: right;\n",
              "    }\n",
              "</style>\n",
              "<table border=\"1\" class=\"dataframe\">\n",
              "  <thead>\n",
              "    <tr style=\"text-align: right;\">\n",
              "      <th></th>\n",
              "      <th>Close</th>\n",
              "    </tr>\n",
              "  </thead>\n",
              "  <tbody>\n",
              "    <tr>\n",
              "      <th>77</th>\n",
              "      <td>110.4830</td>\n",
              "    </tr>\n",
              "    <tr>\n",
              "      <th>78</th>\n",
              "      <td>111.9580</td>\n",
              "    </tr>\n",
              "    <tr>\n",
              "      <th>79</th>\n",
              "      <td>115.7370</td>\n",
              "    </tr>\n",
              "    <tr>\n",
              "      <th>80</th>\n",
              "      <td>111.3000</td>\n",
              "    </tr>\n",
              "    <tr>\n",
              "      <th>81</th>\n",
              "      <td>119.3160</td>\n",
              "    </tr>\n",
              "    <tr>\n",
              "      <th>...</th>\n",
              "      <td>...</td>\n",
              "    </tr>\n",
              "    <tr>\n",
              "      <th>172</th>\n",
              "      <td>68.3923</td>\n",
              "    </tr>\n",
              "    <tr>\n",
              "      <th>173</th>\n",
              "      <td>69.5200</td>\n",
              "    </tr>\n",
              "    <tr>\n",
              "      <th>174</th>\n",
              "      <td>69.4701</td>\n",
              "    </tr>\n",
              "    <tr>\n",
              "      <th>175</th>\n",
              "      <td>67.5211</td>\n",
              "    </tr>\n",
              "    <tr>\n",
              "      <th>176</th>\n",
              "      <td>67.7813</td>\n",
              "    </tr>\n",
              "  </tbody>\n",
              "</table>\n",
              "<p>100 rows × 1 columns</p>\n",
              "</div>"
            ],
            "text/plain": [
              "        Close\n",
              "77   110.4830\n",
              "78   111.9580\n",
              "79   115.7370\n",
              "80   111.3000\n",
              "81   119.3160\n",
              "..        ...\n",
              "172   68.3923\n",
              "173   69.5200\n",
              "174   69.4701\n",
              "175   67.5211\n",
              "176   67.7813\n",
              "\n",
              "[100 rows x 1 columns]"
            ]
          },
          "execution_count": 28,
          "metadata": {},
          "output_type": "execute_result"
        }
      ],
      "source": [
        "data_training.tail(100)"
      ]
    },
    {
      "cell_type": "code",
      "execution_count": null,
      "id": "bdc7348f",
      "metadata": {
        "id": "bdc7348f"
      },
      "outputs": [],
      "source": [
        "past_100_days = data_training.tail(100)"
      ]
    },
    {
      "cell_type": "code",
      "execution_count": null,
      "id": "1926eb96",
      "metadata": {
        "id": "1926eb96",
        "outputId": "a1c23d5e-6b13-411e-91c9-045755678ee5"
      },
      "outputs": [
        {
          "name": "stderr",
          "output_type": "stream",
          "text": [
            "C:\\Users\\Suraj\\AppData\\Local\\Temp\\ipykernel_10208\\3811694074.py:1: FutureWarning: The frame.append method is deprecated and will be removed from pandas in a future version. Use pandas.concat instead.\n",
            "  final_df = past_100_days.append(data_testing,ignore_index  = True)\n"
          ]
        }
      ],
      "source": [
        "final_df = past_100_days.append(data_testing,ignore_index  = True)"
      ]
    },
    {
      "cell_type": "code",
      "execution_count": null,
      "id": "efb37984",
      "metadata": {
        "id": "efb37984",
        "outputId": "1d4464df-5bcb-4639-af79-b422cb78e45c"
      },
      "outputs": [
        {
          "data": {
            "text/html": [
              "<div>\n",
              "<style scoped>\n",
              "    .dataframe tbody tr th:only-of-type {\n",
              "        vertical-align: middle;\n",
              "    }\n",
              "\n",
              "    .dataframe tbody tr th {\n",
              "        vertical-align: top;\n",
              "    }\n",
              "\n",
              "    .dataframe thead th {\n",
              "        text-align: right;\n",
              "    }\n",
              "</style>\n",
              "<table border=\"1\" class=\"dataframe\">\n",
              "  <thead>\n",
              "    <tr style=\"text-align: right;\">\n",
              "      <th></th>\n",
              "      <th>Close</th>\n",
              "    </tr>\n",
              "  </thead>\n",
              "  <tbody>\n",
              "    <tr>\n",
              "      <th>0</th>\n",
              "      <td>110.483</td>\n",
              "    </tr>\n",
              "    <tr>\n",
              "      <th>1</th>\n",
              "      <td>111.958</td>\n",
              "    </tr>\n",
              "    <tr>\n",
              "      <th>2</th>\n",
              "      <td>115.737</td>\n",
              "    </tr>\n",
              "    <tr>\n",
              "      <th>3</th>\n",
              "      <td>111.300</td>\n",
              "    </tr>\n",
              "    <tr>\n",
              "      <th>4</th>\n",
              "      <td>119.316</td>\n",
              "    </tr>\n",
              "  </tbody>\n",
              "</table>\n",
              "</div>"
            ],
            "text/plain": [
              "     Close\n",
              "0  110.483\n",
              "1  111.958\n",
              "2  115.737\n",
              "3  111.300\n",
              "4  119.316"
            ]
          },
          "execution_count": 31,
          "metadata": {},
          "output_type": "execute_result"
        }
      ],
      "source": [
        "final_df.head()"
      ]
    },
    {
      "cell_type": "code",
      "execution_count": null,
      "id": "2c41bd10",
      "metadata": {
        "collapsed": true,
        "id": "2c41bd10",
        "outputId": "14126e35-b9b2-41c8-89fc-ae775fce92d1"
      },
      "outputs": [
        {
          "data": {
            "text/plain": [
              "array([[0.71693498],\n",
              "       [0.7360234 ],\n",
              "       [0.78492856],\n",
              "       [0.72750802],\n",
              "       [0.83124547],\n",
              "       [0.83021017],\n",
              "       [0.96439849],\n",
              "       [1.        ],\n",
              "       [0.93446527],\n",
              "       [0.88040946],\n",
              "       [0.88284243],\n",
              "       [0.90233202],\n",
              "       [0.88053888],\n",
              "       [0.89381665],\n",
              "       [0.87471529],\n",
              "       [0.79705456],\n",
              "       [0.76415778],\n",
              "       [0.76221659],\n",
              "       [0.75022   ],\n",
              "       [0.75396004],\n",
              "       [0.75525417],\n",
              "       [0.72996687],\n",
              "       [0.68352055],\n",
              "       [0.72635625],\n",
              "       [0.70545605],\n",
              "       [0.73861166],\n",
              "       [0.68957708],\n",
              "       [0.68455585],\n",
              "       [0.675264  ],\n",
              "       [0.64131898],\n",
              "       [0.51289083],\n",
              "       [0.49824775],\n",
              "       [0.47543612],\n",
              "       [0.49529196],\n",
              "       [0.46730769],\n",
              "       [0.47023631],\n",
              "       [0.52665649],\n",
              "       [0.52318692],\n",
              "       [0.54048685],\n",
              "       [0.51463273],\n",
              "       [0.51710969],\n",
              "       [0.53245031],\n",
              "       [0.52392199],\n",
              "       [0.50378145],\n",
              "       [0.50941997],\n",
              "       [0.50641371],\n",
              "       [0.50205378],\n",
              "       [0.47443058],\n",
              "       [0.47810721],\n",
              "       [0.44706491],\n",
              "       [0.44706491],\n",
              "       [0.44925846],\n",
              "       [0.43967284],\n",
              "       [0.41371389],\n",
              "       [0.44938658],\n",
              "       [0.43416373],\n",
              "       [0.4548064 ],\n",
              "       [0.43039652],\n",
              "       [0.40123719],\n",
              "       [0.4076496 ],\n",
              "       [0.40719795],\n",
              "       [0.40875867],\n",
              "       [0.3798064 ],\n",
              "       [0.36645486],\n",
              "       [0.35722901],\n",
              "       [0.41117222],\n",
              "       [0.3829809 ],\n",
              "       [0.3494487 ],\n",
              "       [0.34320452],\n",
              "       [0.31394295],\n",
              "       [0.32285692],\n",
              "       [0.31722099],\n",
              "       [0.31245988],\n",
              "       [0.30000906],\n",
              "       [0.3010146 ],\n",
              "       [0.30056295],\n",
              "       [0.29613832],\n",
              "       [0.30304121],\n",
              "       [0.29652526],\n",
              "       [0.30411145],\n",
              "       [0.28471892],\n",
              "       [0.29051273],\n",
              "       [0.26743063],\n",
              "       [0.27322445],\n",
              "       [0.26723781],\n",
              "       [0.27918392],\n",
              "       [0.29066803],\n",
              "       [0.27510871],\n",
              "       [0.25213014],\n",
              "       [0.24229863],\n",
              "       [0.23255772],\n",
              "       [0.21852029],\n",
              "       [0.20552852],\n",
              "       [0.22057149],\n",
              "       [0.20126954],\n",
              "       [0.17222668],\n",
              "       [0.18682058],\n",
              "       [0.18617481],\n",
              "       [0.16095222],\n",
              "       [0.16431955],\n",
              "       [0.13980485],\n",
              "       [0.16695051],\n",
              "       [0.18561963],\n",
              "       [0.19800575],\n",
              "       [0.1908065 ],\n",
              "       [0.1991407 ],\n",
              "       [0.15528781],\n",
              "       [0.13859354],\n",
              "       [0.13245031],\n",
              "       [0.11136893],\n",
              "       [0.12104514],\n",
              "       [0.05414898],\n",
              "       [0.06530956],\n",
              "       [0.05256238],\n",
              "       [0.09502148],\n",
              "       [0.09669997],\n",
              "       [0.0742507 ],\n",
              "       [0.10822161],\n",
              "       [0.06720546],\n",
              "       [0.07149032],\n",
              "       [0.        ],\n",
              "       [0.01545579],\n",
              "       [0.06481908],\n",
              "       [0.07083031],\n",
              "       [0.09053215],\n",
              "       [0.056679  ],\n",
              "       [0.17028031],\n",
              "       [0.07579848],\n",
              "       [0.16222823],\n",
              "       [0.19369629],\n",
              "       [0.1327609 ],\n",
              "       [0.20539911],\n",
              "       [0.21774511],\n",
              "       [0.24898152],\n",
              "       [0.20634124],\n",
              "       [0.23645305],\n",
              "       [0.15562299],\n",
              "       [0.15613935],\n",
              "       [0.21691945],\n",
              "       [0.2023799 ],\n",
              "       [0.23449244],\n",
              "       [0.28172689],\n",
              "       [0.30479605],\n",
              "       [0.31531085],\n",
              "       [0.30065354],\n",
              "       [0.31954265],\n",
              "       [0.31928383],\n",
              "       [0.32668884],\n",
              "       [0.30261414],\n",
              "       [0.3087302 ],\n",
              "       [0.30391863],\n",
              "       [0.31793017],\n",
              "       [0.30596982],\n",
              "       [0.29777668],\n",
              "       [0.26548297],\n",
              "       [0.26820452],\n",
              "       [0.31365825],\n",
              "       [0.31515555],\n",
              "       [0.29408583],\n",
              "       [0.26639921],\n",
              "       [0.29603479],\n",
              "       [0.29895046],\n",
              "       [0.29411171],\n",
              "       [0.29053862],\n",
              "       [0.29738974],\n",
              "       [0.28630681],\n",
              "       [0.27393364],\n",
              "       [0.27820427],\n",
              "       [0.29179004],\n",
              "       [0.27073455],\n",
              "       [0.26857982],\n",
              "       [0.24812998],\n",
              "       [0.23293172],\n",
              "       [0.23735635],\n",
              "       [0.22989958],\n",
              "       [0.23912413]])"
            ]
          },
          "execution_count": 32,
          "metadata": {},
          "output_type": "execute_result"
        }
      ],
      "source": [
        "input_data = scaler.fit_transform(final_df)\n",
        "input_data"
      ]
    },
    {
      "cell_type": "code",
      "execution_count": null,
      "id": "03175768",
      "metadata": {
        "id": "03175768",
        "outputId": "cfb82ab2-588b-4750-d36a-e6e856c525f7"
      },
      "outputs": [
        {
          "data": {
            "text/plain": [
              "(176, 1)"
            ]
          },
          "execution_count": 33,
          "metadata": {},
          "output_type": "execute_result"
        }
      ],
      "source": [
        "input_data.shape"
      ]
    },
    {
      "cell_type": "code",
      "execution_count": null,
      "id": "85931019",
      "metadata": {
        "id": "85931019"
      },
      "outputs": [],
      "source": [
        "x_test = []#first 100 days\n",
        "y_test = []#Next 101 day prediction\n",
        "\n",
        "for i in range(100, input_data.shape[0]):\n",
        "    x_test.append(input_data[i-100: i])\n",
        "    y_test.append(input_data[i, 0])"
      ]
    },
    {
      "cell_type": "code",
      "execution_count": null,
      "id": "4a1bad9e",
      "metadata": {
        "id": "4a1bad9e",
        "outputId": "ccd0823c-be14-4db9-de28-fdaa4bd15284"
      },
      "outputs": [
        {
          "name": "stdout",
          "output_type": "stream",
          "text": [
            "(76, 100, 1)\n",
            "(76,)\n"
          ]
        }
      ],
      "source": [
        "x_test, y_test = np.array(x_test), np.array(y_test)\n",
        "print(x_test.shape)\n",
        "print(y_test.shape)"
      ]
    },
    {
      "cell_type": "code",
      "execution_count": null,
      "id": "db856b4a",
      "metadata": {
        "id": "db856b4a",
        "outputId": "34d092ce-67c8-4c3c-d78e-b60b17b369b7"
      },
      "outputs": [
        {
          "name": "stdout",
          "output_type": "stream",
          "text": [
            "3/3 [==============================] - 2s 112ms/step\n"
          ]
        }
      ],
      "source": [
        "#Makeing prediction\n",
        "y_predicated = model.predict(x_test)"
      ]
    },
    {
      "cell_type": "code",
      "execution_count": null,
      "id": "9108b91a",
      "metadata": {
        "id": "9108b91a",
        "outputId": "bb470348-08f9-4b99-b4bd-5af64af3b159"
      },
      "outputs": [
        {
          "data": {
            "text/plain": [
              "(76, 1)"
            ]
          },
          "execution_count": 37,
          "metadata": {},
          "output_type": "execute_result"
        }
      ],
      "source": [
        "y_predicated .shape"
      ]
    },
    {
      "cell_type": "code",
      "execution_count": null,
      "id": "69abf6c3",
      "metadata": {
        "id": "69abf6c3",
        "outputId": "763e63bb-ab7d-459e-82f6-099a7549114f"
      },
      "outputs": [
        {
          "data": {
            "text/plain": [
              "array([0.13980485, 0.16695051, 0.18561963, 0.19800575, 0.1908065 ,\n",
              "       0.1991407 , 0.15528781, 0.13859354, 0.13245031, 0.11136893,\n",
              "       0.12104514, 0.05414898, 0.06530956, 0.05256238, 0.09502148,\n",
              "       0.09669997, 0.0742507 , 0.10822161, 0.06720546, 0.07149032,\n",
              "       0.        , 0.01545579, 0.06481908, 0.07083031, 0.09053215,\n",
              "       0.056679  , 0.17028031, 0.07579848, 0.16222823, 0.19369629,\n",
              "       0.1327609 , 0.20539911, 0.21774511, 0.24898152, 0.20634124,\n",
              "       0.23645305, 0.15562299, 0.15613935, 0.21691945, 0.2023799 ,\n",
              "       0.23449244, 0.28172689, 0.30479605, 0.31531085, 0.30065354,\n",
              "       0.31954265, 0.31928383, 0.32668884, 0.30261414, 0.3087302 ,\n",
              "       0.30391863, 0.31793017, 0.30596982, 0.29777668, 0.26548297,\n",
              "       0.26820452, 0.31365825, 0.31515555, 0.29408583, 0.26639921,\n",
              "       0.29603479, 0.29895046, 0.29411171, 0.29053862, 0.29738974,\n",
              "       0.28630681, 0.27393364, 0.27820427, 0.29179004, 0.27073455,\n",
              "       0.26857982, 0.24812998, 0.23293172, 0.23735635, 0.22989958,\n",
              "       0.23912413])"
            ]
          },
          "execution_count": 38,
          "metadata": {},
          "output_type": "execute_result"
        }
      ],
      "source": [
        "y_test"
      ]
    },
    {
      "cell_type": "code",
      "execution_count": null,
      "id": "3e0bb65a",
      "metadata": {
        "collapsed": true,
        "id": "3e0bb65a",
        "outputId": "3d129c21-3bf4-4448-b674-c9f221fdb9dc"
      },
      "outputs": [
        {
          "data": {
            "text/plain": [
              "array([[0.13781552],\n",
              "       [0.13110872],\n",
              "       [0.12428154],\n",
              "       [0.1174465 ],\n",
              "       [0.11073907],\n",
              "       [0.10429577],\n",
              "       [0.09824433],\n",
              "       [0.09263974],\n",
              "       [0.08750349],\n",
              "       [0.08280551],\n",
              "       [0.07854285],\n",
              "       [0.07472545],\n",
              "       [0.07135272],\n",
              "       [0.06842127],\n",
              "       [0.06589155],\n",
              "       [0.06372029],\n",
              "       [0.06186642],\n",
              "       [0.06030161],\n",
              "       [0.058989  ],\n",
              "       [0.05789413],\n",
              "       [0.05698727],\n",
              "       [0.05623562],\n",
              "       [0.05561163],\n",
              "       [0.05509331],\n",
              "       [0.05466289],\n",
              "       [0.05430611],\n",
              "       [0.05401065],\n",
              "       [0.05376856],\n",
              "       [0.05357146],\n",
              "       [0.05341356],\n",
              "       [0.05329164],\n",
              "       [0.05320084],\n",
              "       [0.05313917],\n",
              "       [0.05310828],\n",
              "       [0.05311886],\n",
              "       [0.05317511],\n",
              "       [0.05328441],\n",
              "       [0.05344101],\n",
              "       [0.0536292 ],\n",
              "       [0.05385654],\n",
              "       [0.05413074],\n",
              "       [0.05447203],\n",
              "       [0.05494778],\n",
              "       [0.05568001],\n",
              "       [0.05681504],\n",
              "       [0.05849458],\n",
              "       [0.06086599],\n",
              "       [0.06402241],\n",
              "       [0.06796905],\n",
              "       [0.07263941],\n",
              "       [0.07792921],\n",
              "       [0.08370161],\n",
              "       [0.0898286 ],\n",
              "       [0.09617233],\n",
              "       [0.10258577],\n",
              "       [0.10888202],\n",
              "       [0.11488295],\n",
              "       [0.12051069],\n",
              "       [0.12575567],\n",
              "       [0.13059987],\n",
              "       [0.13498966],\n",
              "       [0.13891101],\n",
              "       [0.14238186],\n",
              "       [0.14543076],\n",
              "       [0.14808574],\n",
              "       [0.15038593],\n",
              "       [0.15235776],\n",
              "       [0.15400372],\n",
              "       [0.15532625],\n",
              "       [0.15635327],\n",
              "       [0.15709373],\n",
              "       [0.15754844],\n",
              "       [0.15768936],\n",
              "       [0.15746363],\n",
              "       [0.15682967],\n",
              "       [0.15575613]], dtype=float32)"
            ]
          },
          "execution_count": 39,
          "metadata": {},
          "output_type": "execute_result"
        }
      ],
      "source": [
        "y_predicated"
      ]
    },
    {
      "cell_type": "code",
      "execution_count": null,
      "id": "20043c47",
      "metadata": {
        "id": "20043c47",
        "outputId": "1fb48596-db08-43fc-ea93-39f9cb86c3a8"
      },
      "outputs": [
        {
          "data": {
            "text/plain": [
              "array([0.0129413])"
            ]
          },
          "execution_count": 40,
          "metadata": {},
          "output_type": "execute_result"
        }
      ],
      "source": [
        "scaler.scale_"
      ]
    },
    {
      "cell_type": "code",
      "execution_count": null,
      "id": "0dfae41f",
      "metadata": {
        "id": "0dfae41f"
      },
      "outputs": [],
      "source": [
        "scale_factor = 1/0.0129413\n",
        "y_predicated = y_predicated * scale_factor\n",
        "y_test = y_test * scale_factor"
      ]
    },
    {
      "cell_type": "code",
      "execution_count": null,
      "id": "1d7972bc",
      "metadata": {
        "id": "1d7972bc",
        "outputId": "f59f19d5-555f-465c-8304-4a13d0569fa8"
      },
      "outputs": [
        {
          "data": {
            "image/png": "[encoded data removed]",
            "text/plain": [
              "<Figure size 1200x600 with 1 Axes>"
            ]
          },
          "metadata": {},
          "output_type": "display_data"
        }
      ],
      "source": [
        "plt.figure(figsize = (12,6))\n",
        "plt.plot(y_test , 'b' , label = 'original Price')\n",
        "plt.plot(y_predicated , 'r' , label ='Predicted Price')\n",
        "plt.xlabel('Time')\n",
        "plt.xlabel('Price')\n",
        "plt.legend()\n",
        "plt.show()"
      ]
    },
    {
      "cell_type": "code",
      "execution_count": null,
      "id": "0b917f2e",
      "metadata": {
        "id": "0b917f2e"
      },
      "outputs": [],
      "source": []
    }
  ],
  "metadata": {
    "kernelspec": {
      "display_name": "Python 3 (ipykernel)",
      "language": "python",
      "name": "python3"
    },
    "language_info": {
      "codemirror_mode": {
        "name": "ipython",
        "version": 3
      },
      "file_extension": ".py",
      "mimetype": "text/x-python",
      "name": "python",
      "nbconvert_exporter": "python",
      "pygments_lexer": "ipython3",
      "version": "3.11.4"
    },
    "colab": {
      "provenance": []
    }
  },
  "nbformat": 4,
  "nbformat_minor": 5
}